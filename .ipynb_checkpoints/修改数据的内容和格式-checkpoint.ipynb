{
 "cells": [
  {
   "cell_type": "markdown",
   "metadata": {},
   "source": [
    "##### 函数 open（）返回一个表示文件的对象\n",
    "##### 关键字 with 表示在不再需要访问文件后将其关闭\n",
    "##### 方法read（）读取文件的全部内容，且在文件末尾添加一个空行\n",
    "##### 方法rstrip（）消除字符串末尾的空白"
   ]
  },
  {
   "cell_type": "markdown",
   "metadata": {},
   "source": [
    "## 相关字符串的处理方法\n",
    "expandtabs(tabsize=8)\n",
    "\n",
    "\n",
    "把字符串 string 中的 tab 符号转为空格，tab 符号默认的空格数是 8 。\n",
    "\t\n",
    "join(seq)\n",
    "\n",
    "\n",
    "以指定字符串作为分隔符，将 seq 中所有的元素(的字符串表示)合并为一个新的字符串\n",
    "\t\n",
    "replace(old, new [, max])\n",
    "\n",
    "\n",
    "把 将字符串中的 old 替换成 new,如果 max 指定，则替换不超过 max 次。\n",
    "split(str=\"\", num=string.count(str))\n",
    "\n",
    "\n",
    "以 str 为分隔符截取字符串，如果 num 有指定值，则仅截取 num+1 个子字符串\n",
    "\t\n",
    "splitlines([keepends])\n",
    "\n",
    "\n",
    "按照行('\\r', '\\r\\n', \\n')分隔，返回一个包含各行作为元素的列表，如果参数 keepends 为 False，不包含换行符，如果为 True，则保留换行符。\n"
   ]
  },
  {
   "cell_type": "markdown",
   "metadata": {},
   "source": [
    "把文件都变为合法的csv文件"
   ]
  },
  {
   "cell_type": "markdown",
   "metadata": {},
   "source": [
    "集合用于训练的csv文件"
   ]
  },
  {
   "cell_type": "markdown",
   "metadata": {},
   "source": [
    "集合用于测试的csv文件"
   ]
  }
 ],
 "metadata": {
  "celltoolbar": "Raw Cell Format",
  "kernelspec": {
   "display_name": "Python 3",
   "language": "python",
   "name": "python3"
  },
  "language_info": {
   "codemirror_mode": {
    "name": "ipython",
    "version": 3
   },
   "file_extension": ".py",
   "mimetype": "text/x-python",
   "name": "python",
   "nbconvert_exporter": "python",
   "pygments_lexer": "ipython3",
   "version": "3.8.5"
  }
 },
 "nbformat": 4,
 "nbformat_minor": 4
}
