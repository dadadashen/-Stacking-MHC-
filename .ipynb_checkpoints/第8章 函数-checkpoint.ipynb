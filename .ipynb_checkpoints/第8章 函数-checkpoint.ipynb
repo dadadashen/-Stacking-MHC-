{
 "cells": [
  {
   "cell_type": "markdown",
   "metadata": {},
   "source": [
    "### 让实参变得可选\n",
    "    给对应的形参的默认值设为 空字符串\n",
    "  \n",
    "  \n",
    "  "
   ]
  },
  {
   "cell_type": "code",
   "execution_count": 1,
   "metadata": {
    "scrolled": true
   },
   "outputs": [
    {
     "name": "stdout",
     "output_type": "stream",
     "text": [
      "本章学的是函数\n"
     ]
    }
   ],
   "source": [
    "def display_message():\n",
    "    print(\"本章学的是函数\")\n",
    "\n",
    "display_message()"
   ]
  },
  {
   "cell_type": "code",
   "execution_count": 3,
   "metadata": {
    "scrolled": true
   },
   "outputs": [
    {
     "name": "stdout",
     "output_type": "stream",
     "text": [
      "我最喜欢的书是西游记\n"
     ]
    }
   ],
   "source": [
    "def favorite_book(title):\n",
    "    print(\"我最喜欢的书是\"+title)\n",
    "\n",
    "favorite_book(\"西游记\")"
   ]
  },
  {
   "cell_type": "code",
   "execution_count": 10,
   "metadata": {
    "scrolled": true
   },
   "outputs": [
    {
     "name": "stdout",
     "output_type": "stream",
     "text": [
      "这件衣服的大小是25\n",
      "上面写着i love python\n"
     ]
    }
   ],
   "source": [
    "# def make_shirt(size,content=\"i love python\"):\n",
    "#     print(\"这件衣服的大小是\"+str(size))\n",
    "#     print(\"上面写着\"+content)\n",
    "\n",
    "# make_shirt(25)\n",
    "# # make_shirt(size=36,\"平雷\")"
   ]
  },
  {
   "cell_type": "code",
   "execution_count": 11,
   "metadata": {
    "scrolled": true
   },
   "outputs": [
    {
     "ename": "SyntaxError",
     "evalue": "unexpected EOF while parsing (<ipython-input-11-bb47c7ca9858>, line 1)",
     "output_type": "error",
     "traceback": [
      "\u001b[1;36m  File \u001b[1;32m\"<ipython-input-11-bb47c7ca9858>\"\u001b[1;36m, line \u001b[1;32m1\u001b[0m\n\u001b[1;33m    def describe_city(name,country):\u001b[0m\n\u001b[1;37m                                    ^\u001b[0m\n\u001b[1;31mSyntaxError\u001b[0m\u001b[1;31m:\u001b[0m unexpected EOF while parsing\n"
     ]
    }
   ],
   "source": [
    "def describe_city(name,country=\"china\"):\n",
    "    print(name+\"is in \"+country)\n",
    "\n"
   ]
  },
  {
   "cell_type": "code",
   "execution_count": 17,
   "metadata": {
    "scrolled": true
   },
   "outputs": [
    {
     "name": "stdout",
     "output_type": "stream",
     "text": [
      "BeiJing,Chian\n",
      "Lodon,England\n"
     ]
    }
   ],
   "source": [
    "def city_country(city,country):\n",
    "    tem=city+\",\"+country\n",
    "    return tem\n",
    "\n",
    "out=city_country('BeiJing',\"Chian\")\n",
    "print(out)\n",
    "out=city_country(\"Lodon\",\"England\")\n",
    "print(out)\n",
    "    "
   ]
  },
  {
   "cell_type": "code",
   "execution_count": 22,
   "metadata": {
    "scrolled": true
   },
   "outputs": [
    {
     "data": {
      "text/plain": [
       "{'singer': '1', 'ablum': '11', 'ablum_num': '5'}"
      ]
     },
     "execution_count": 22,
     "metadata": {},
     "output_type": "execute_result"
    }
   ],
   "source": [
    "def make_ablum(cel_name,art_name,num=''):\n",
    "    if num:\n",
    "        information={'singer':cel_name,'ablum':art_name,\"ablum_num\":num}\n",
    "    else:\n",
    "        information={'singer':cel_name,'ablum':art_name}\n",
    "    return information\n",
    "\n",
    "make_ablum('1',\"11\",'5')\n",
    "\n"
   ]
  },
  {
   "cell_type": "code",
   "execution_count": 25,
   "metadata": {
    "scrolled": true
   },
   "outputs": [
    {
     "name": "stdout",
     "output_type": "stream",
     "text": [
      "aonce said,\"b\"\n"
     ]
    }
   ],
   "source": [
    "a=\"a\"\n",
    "b=\"b\"\n",
    "print(a+' once said,\"'+b+'\"')"
   ]
  },
  {
   "cell_type": "code",
   "execution_count": 1,
   "metadata": {
    "scrolled": false
   },
   "outputs": [
    {
     "name": "stdout",
     "output_type": "stream",
     "text": [
      "The Zen of Python, by Tim Peters\n",
      "\n",
      "Beautiful is better than ugly.\n",
      "Explicit is better than implicit.\n",
      "Simple is better than complex.\n",
      "Complex is better than complicated.\n",
      "Flat is better than nested.\n",
      "Sparse is better than dense.\n",
      "Readability counts.\n",
      "Special cases aren't special enough to break the rules.\n",
      "Although practicality beats purity.\n",
      "Errors should never pass silently.\n",
      "Unless explicitly silenced.\n",
      "In the face of ambiguity, refuse the temptation to guess.\n",
      "There should be one-- and preferably only one --obvious way to do it.\n",
      "Although that way may not be obvious at first unless you're Dutch.\n",
      "Now is better than never.\n",
      "Although never is often better than *right* now.\n",
      "If the implementation is hard to explain, it's a bad idea.\n",
      "If the implementation is easy to explain, it may be a good idea.\n",
      "Namespaces are one honking great idea -- let's do more of those!\n"
     ]
    }
   ],
   "source": [
    "import this"
   ]
  },
  {
   "cell_type": "code",
   "execution_count": 5,
   "metadata": {
    "scrolled": true
   },
   "outputs": [
    {
     "name": "stdout",
     "output_type": "stream",
     "text": [
      "2\n"
     ]
    },
    {
     "data": {
      "text/plain": [
       "int"
      ]
     },
     "execution_count": 5,
     "metadata": {},
     "output_type": "execute_result"
    }
   ],
   "source": [
    "name=['1',2,'3']\n",
    "print(name[1])\n",
    "type(name[1])"
   ]
  },
  {
   "cell_type": "code",
   "execution_count": 10,
   "metadata": {
    "scrolled": true
   },
   "outputs": [
    {
     "name": "stdout",
     "output_type": "stream",
     "text": [
      "我喜欢小汽车\n",
      "我喜欢摩托车\n"
     ]
    }
   ],
   "source": [
    "trave_mode=['小汽车',\"摩托车\"]\n",
    "for i in trave_mode:\n",
    "    print(\"我喜欢\"+i)\n"
   ]
  },
  {
   "cell_type": "code",
   "execution_count": 11,
   "metadata": {
    "scrolled": true
   },
   "outputs": [
    {
     "name": "stdout",
     "output_type": "stream",
     "text": [
      "马云因故无法赴宴！\n",
      "尊敬的：jack_Ma（先生/女士），诚挚的邀请您参加今晚的宴会！\n",
      "尊敬的：马化腾（先生/女士），诚挚的邀请您参加今晚的宴会！\n",
      "尊敬的：李彦宏（先生/女士），诚挚的邀请您参加今晚的宴会！\n"
     ]
    }
   ],
   "source": [
    "inv_list = ['马云','马化腾','李彦宏']\n",
    "print(inv_list[0] + '因故无法赴宴！')\n",
    "inv_list[0] = 'jack_Ma'\n",
    "for inv_name in inv_list:\n",
    "\tprint('尊敬的：' + inv_name + '（先生/女士），诚挚的邀请您参加今晚的宴会！')"
   ]
  },
  {
   "cell_type": "code",
   "execution_count": 2,
   "metadata": {
    "scrolled": true
   },
   "outputs": [
    {
     "name": "stdout",
     "output_type": "stream",
     "text": [
      "你有16个披萨\n"
     ]
    }
   ],
   "source": [
    "import tem\n",
    "tem.pizza(16)"
   ]
  },
  {
   "cell_type": "code",
   "execution_count": 38,
   "metadata": {},
   "outputs": [
    {
     "name": "stdout",
     "output_type": "stream",
     "text": [
      "apple\n",
      "orange\n"
     ]
    }
   ],
   "source": [
    "# 9-1 餐馆 ： 创建一个名为Restaurant 的类， 其方法__init__() 设置两个属性： restaurant_name 和cuisine_type 。 创建一个名\n",
    "# 为describe_restaurant() 的方法和一个名为open_restaurant() 的方法， 其中前者打印前述两项信息， 而后者打印一条消息， 指出餐馆正在营业。\n",
    "# 根据这个类创建一个名为restaurant 的实例， 分别打印其两个属性， 再调用前述两个方法。\n",
    "class Restaurant():\n",
    "    def __init__(self,restaurant_name,cuisine_type):\n",
    "        \"\"\"初始化属性restaurant_name和cuisine_type\"\"\"\n",
    "        self.restaurant_name = restaurant_name\n",
    "        self.cuisine_type = cuisine_type\n",
    "        self.number_served=0\n",
    "    def describe_restaurant(self):\n",
    "        print(self.restaurant_name)\n",
    "        print(self.cuisine_type)\n",
    "    def open_restaurant(self):\n",
    "        print('Restaurant is open')\n",
    "    def set_num(self,num_set):\n",
    "        self.number_served=num_set\n",
    "    def add_num(self,num_add):\n",
    "        self.number_served+=num_add\n",
    "\n",
    "class IceCreamStand(Restaurant):\n",
    "    def __init__(self,restaurant_name,cuisine_type):\n",
    "        super().__init__(restaurant_name,cuisine_type)\n",
    "        self.flavors=['apple','orange']#注意这里flavors不作为子类初始化函数的参数\n",
    "    def show_icecream(self):\n",
    "        for i in self.flavors:\n",
    "            print(i)\n",
    "\n",
    "example_IceCreamStand=IceCreamStand('我家 ','b')\n",
    "example_IceCreamStand.show_icecream()"
   ]
  },
  {
   "cell_type": "code",
   "execution_count": 12,
   "metadata": {},
   "outputs": [
    {
     "name": "stdout",
     "output_type": "stream",
     "text": [
      "can add post\n",
      "can del post\n",
      "can ban user\n"
     ]
    }
   ],
   "source": [
    "class User():\n",
    "\tdef __init__(self, first_name,last_name):\n",
    "\t\tself.first_name = first_name\n",
    "\t\tself.last_name = last_name\n",
    "\tdef describe_user(self):\n",
    "\t\tprint('用户名称为：' + self.first_name + self.last_name)\n",
    "\tdef greet_user(self):\n",
    "\t\tprint('你好！ ' + self.first_name + self.last_name)\n",
    "\n",
    "class Admin(User):\n",
    "\tdef __init__(self,first_name,last_name):\n",
    "\t\tself.first_name = first_name\n",
    "\t\tself.last_name = last_name\n",
    "\t\tself.privileges = ['can add post','can del post','can ban user']\n",
    "\tdef show_privileges(self):\n",
    "\t\t# print(self.privileges)\n",
    "\t\tfor i in self.privileges:\n",
    "\t\t\tprint(i)\n",
    "Admin1 = Admin('Ma','Yun')\n",
    "Admin1.show_privileges()"
   ]
  },
  {
   "cell_type": "code",
   "execution_count": 22,
   "metadata": {},
   "outputs": [
    {
     "name": "stdout",
     "output_type": "stream",
     "text": [
      "in python you can 111\n",
      "in python you can 222\n",
      "in python you can 333\n",
      "\n",
      "in python you can 111\n",
      "in python you can 222\n",
      "in python you can 333\n",
      "\n"
     ]
    }
   ],
   "source": [
    "##整句打印\n",
    "with open('learning.txt') as file_object:\n",
    "    contents=file_object.read()\n",
    "    print(contents.rstrip())\n",
    "print(\"\")\n",
    "\n",
    "##逐行打印\n",
    "with open('learning.txt') as file_object:\n",
    "    for i in file_object:\n",
    "        print(i.rstrip())\n",
    "\n"
   ]
  },
  {
   "cell_type": "code",
   "execution_count": null,
   "metadata": {
    "scrolled": true
   },
   "outputs": [],
   "source": [
    "\n",
    "\n",
    "\n"
   ]
  },
  {
   "cell_type": "code",
   "execution_count": null,
   "metadata": {
    "scrolled": true
   },
   "outputs": [],
   "source": []
  },
  {
   "cell_type": "code",
   "execution_count": null,
   "metadata": {
    "scrolled": true
   },
   "outputs": [],
   "source": []
  },
  {
   "cell_type": "code",
   "execution_count": null,
   "metadata": {
    "scrolled": true
   },
   "outputs": [],
   "source": []
  },
  {
   "cell_type": "code",
   "execution_count": null,
   "metadata": {
    "scrolled": true
   },
   "outputs": [],
   "source": []
  },
  {
   "cell_type": "code",
   "execution_count": null,
   "metadata": {
    "scrolled": true
   },
   "outputs": [],
   "source": []
  },
  {
   "cell_type": "code",
   "execution_count": null,
   "metadata": {
    "scrolled": true
   },
   "outputs": [],
   "source": []
  },
  {
   "cell_type": "code",
   "execution_count": null,
   "metadata": {
    "scrolled": true
   },
   "outputs": [],
   "source": []
  },
  {
   "cell_type": "code",
   "execution_count": null,
   "metadata": {
    "scrolled": true
   },
   "outputs": [],
   "source": []
  },
  {
   "cell_type": "code",
   "execution_count": null,
   "metadata": {
    "scrolled": true
   },
   "outputs": [],
   "source": []
  },
  {
   "cell_type": "code",
   "execution_count": null,
   "metadata": {
    "scrolled": true
   },
   "outputs": [],
   "source": []
  },
  {
   "cell_type": "code",
   "execution_count": null,
   "metadata": {
    "scrolled": true
   },
   "outputs": [],
   "source": []
  },
  {
   "cell_type": "code",
   "execution_count": null,
   "metadata": {
    "scrolled": true
   },
   "outputs": [],
   "source": []
  },
  {
   "cell_type": "code",
   "execution_count": null,
   "metadata": {
    "scrolled": true
   },
   "outputs": [],
   "source": []
  },
  {
   "cell_type": "code",
   "execution_count": null,
   "metadata": {
    "scrolled": true
   },
   "outputs": [],
   "source": []
  },
  {
   "cell_type": "code",
   "execution_count": null,
   "metadata": {
    "scrolled": true
   },
   "outputs": [],
   "source": []
  },
  {
   "cell_type": "code",
   "execution_count": null,
   "metadata": {
    "scrolled": true
   },
   "outputs": [],
   "source": []
  },
  {
   "cell_type": "code",
   "execution_count": null,
   "metadata": {
    "scrolled": true
   },
   "outputs": [],
   "source": []
  },
  {
   "cell_type": "code",
   "execution_count": null,
   "metadata": {
    "scrolled": true
   },
   "outputs": [],
   "source": []
  },
  {
   "cell_type": "code",
   "execution_count": null,
   "metadata": {
    "scrolled": true
   },
   "outputs": [],
   "source": []
  }
 ],
 "metadata": {
  "celltoolbar": "Raw Cell Format",
  "kernelspec": {
   "display_name": "Python 3",
   "language": "python",
   "name": "python3"
  },
  "language_info": {
   "codemirror_mode": {
    "name": "ipython",
    "version": 3
   },
   "file_extension": ".py",
   "mimetype": "text/x-python",
   "name": "python",
   "nbconvert_exporter": "python",
   "pygments_lexer": "ipython3",
   "version": "3.8.5"
  }
 },
 "nbformat": 4,
 "nbformat_minor": 4
}
