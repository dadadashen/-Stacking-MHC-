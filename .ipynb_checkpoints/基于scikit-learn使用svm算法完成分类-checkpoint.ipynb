{
 "cells": [
  {
   "cell_type": "markdown",
   "metadata": {},
   "source": [
    "数据来源：Iris数据集，下载地址为：http://archive.ics.uci.edu/ml/datasets/Iris，Iris.data 中有5个属性，包括4个预测属性（萼片长度、萼片宽度、花瓣长度、花瓣宽度）和1个类别属性（Iris-setosa、Iris-versicolor、Iris-virginica三种类别）。首先，需要将第五列类别信息转换为数字，再选择输入数据和标签。"
   ]
  },
  {
   "cell_type": "code",
   "execution_count": 54,
   "metadata": {
    "scrolled": true
   },
   "outputs": [],
   "source": [
    "from sklearn import svm\n",
    "import numpy as np\n",
    "import matplotlib.pyplot as plt\n",
    "import matplotlib\n",
    "from sklearn.model_selection import train_test_split\n",
    "import pandas as pd\n",
    "#定义字典，将字符与数字对应起来\n",
    "def Iris_label(s):\n",
    "    it={b'Iris-setosa':0, b'Iris-versicolor':1, b'Iris-virginica':1}\n",
    "    return it[s]\n",
    "\n",
    "#读取数据，利用np.loadtxt()读取text中的数据\n",
    "path='Iris.txt'              #将下载的原始数据放到项目文件夹，即可不用写路径\n",
    "data= np.loadtxt(path, dtype=float, delimiter=',', converters={4:Iris_label}) #分隔符为‘,'，原文件为csv文件，各要素以逗号分隔开\n",
    "# data 是前4列为特征值，第5列为类别属性。共150个样本，所以此时的 data 是一个150*5 的矩阵。\n",
    "\n",
    "#确定输入和输出\n",
    "x,y=np.split(data,(4,),axis=1)   #将data按前4列返回给x作为输入，最后1列给y作为标签值\n",
    "#取x的前2列作为svm的输入，为了方便展示\n"
   ]
  },
  {
   "cell_type": "code",
   "execution_count": 55,
   "metadata": {
    "scrolled": false
   },
   "outputs": [
    {
     "name": "stdout",
     "output_type": "stream",
     "text": [
      "(90, 1)\n",
      "(60, 1)\n",
      "[[4.8 3.4 1.6 0.2]\n",
      " [5.7 2.5 5.  2. ]\n",
      " [6.3 2.7 4.9 1.8]\n",
      " [4.8 3.  1.4 0.1]\n",
      " [4.7 3.2 1.3 0.2]]\n",
      "[0. 1. 1. 0. 0. 1. 0. 1. 1. 1. 1. 1. 1. 0. 1. 1. 1. 1. 1. 1. 0. 0. 0. 1.\n",
      " 0. 1. 1. 1. 0. 0. 1. 0. 1. 1. 1. 1. 1. 1. 1. 1. 0. 1. 0. 1. 1. 0. 1. 0.\n",
      " 0. 1. 1. 1. 0. 0. 1. 0. 1. 0. 1. 1. 0. 1. 0. 1. 0. 1. 1. 0. 0. 1. 0. 1.\n",
      " 1. 0. 1. 1. 1. 1. 1. 0. 0. 1. 1. 1. 1. 1. 1. 1. 1. 0.]\n"
     ]
    }
   ],
   "source": [
    "train_data,test_data,train_label,test_label=train_test_split(x,y,random_state=1,train_size=0.6,test_size=0.4)\n",
    "print(train_label.shape)\n",
    "print(test_label.shape)\n",
    "print(train_data[:5])\n",
    "print(train_label.ravel())"
   ]
  },
  {
   "cell_type": "code",
   "execution_count": 5,
   "metadata": {},
   "outputs": [
    {
     "name": "stdout",
     "output_type": "stream",
     "text": [
      "[[12.819875729084014, 7.404557810537517, 15.121954214572908], [13.509878075122833, 7.465840208530427, 14.31178541108966], [16.11541781723499, -8.224307541176676, 14.389032628387213], [15.115333655476569, -2.4518494091928, 14.36709634512663]]\n",
      "[1, 1, 1, 1]\n",
      "[[18.080166256427763, -1.0002190819010137, 10.514870969206095], [15.086822524666786, 2.423511422239244, 13.469670143723489], [13.535701990127563, -0.9422209968790409, 16.001077562570572], [15.738572636246683, -2.3813056798651813, 13.565432140231133], [20.14449542462826, 3.7653554985299715, 11.191684676706792], [13.308922299742699, 5.692712476663292, 14.89163136854768], [13.60556873381138, 1.8962849920615552, 15.26661512553692], [16.24066654443741, -8.837652564235032, 14.42072446346283], [17.493870529532433, -11.98587930444628, 13.577984547615053], [12.423803704977034, 4.276869099028409, 16.22036192715168], [14.562884178757669, 2.9499420639127494, 13.846545025706291]]\n",
      "[0, 0, 0, 0, 0, 0, 0, 0, 0, 0, 0]\n"
     ]
    }
   ],
   "source": [
    "def dds(path):# 获得某一文件的正类和负类分组\n",
    "    file = pd.read_csv(path)\n",
    "    tl=[]# true label\n",
    "    fl=[]# false label\n",
    "    def true_false_sep(series):\n",
    "        la = series[\"label\"]\n",
    "        fe = series[\"feature\"]\n",
    "        if la==1:\n",
    "            tl.append(eval(fe))\n",
    "        else:\n",
    "            fl.append(eval(fe))     \n",
    "    file.apply(true_false_sep,axis=1)\n",
    "    return tl,fl\n",
    "    \n",
    "trues,falses=dds('text.csv')\n",
    "trues_label=[1]*len(trues)\n",
    "falses_label=[0]*len(falses)\n",
    "print(trues)\n",
    "print(trues_label)\n",
    "print(falses)\n",
    "print(falses_label)"
   ]
  },
  {
   "cell_type": "code",
   "execution_count": 56,
   "metadata": {},
   "outputs": [
    {
     "data": {
      "text/plain": [
       "SVC(C=2, decision_function_shape='ovo', gamma=10)"
      ]
     },
     "execution_count": 56,
     "metadata": {},
     "output_type": "execute_result"
    }
   ],
   "source": [
    "model=svm.SVC(C=2,kernel='rbf',gamma=10,decision_function_shape='ovo') \n",
    "model.fit(train_data,train_label.ravel())    #ravel函数在降维时默认是行序优先"
   ]
  },
  {
   "cell_type": "code",
   "execution_count": 61,
   "metadata": {
    "scrolled": true
   },
   "outputs": [
    {
     "name": "stdout",
     "output_type": "stream",
     "text": [
      "[0. 1. 1. 0. 1. 1. 1. 0. 0. 1. 1. 0. 1. 1. 1. 0. 1. 1. 0. 0. 1. 1. 1. 0.\n",
      " 1. 1. 0. 0. 1. 1. 1. 1. 1. 1. 1. 0. 1. 0. 1. 1. 1. 0. 1. 1. 1. 1. 0. 0.\n",
      " 0. 1. 0. 0. 1. 1. 1. 1. 1. 1. 1. 1.]\n",
      "[1. 1. 1. 0. 1. 1. 1. 1. 0. 1. 1. 0. 1. 1. 1. 0. 1. 1. 0. 0. 1. 1. 1. 0.\n",
      " 1. 1. 0. 0. 1. 1. 1. 1. 1. 1. 1. 0. 1. 0. 1. 1. 1. 0. 1. 1. 1. 1. 1. 0.\n",
      " 0. 1. 0. 0. 1. 1. 1. 1. 1. 1. 1. 1.]\n"
     ]
    }
   ],
   "source": [
    "  \n",
    "print(test_label.ravel())\n",
    "print(model.predict(test_data))\n",
    "tp=fp=fn=tn=0\n",
    "\n"
   ]
  },
  {
   "cell_type": "code",
   "execution_count": 64,
   "metadata": {
    "scrolled": true
   },
   "outputs": [
    {
     "name": "stdout",
     "output_type": "stream",
     "text": [
      "41\n",
      "0\n",
      "16\n",
      "3\n"
     ]
    }
   ],
   "source": [
    "def \n",
    "\n",
    "tp=fp=fn=tn=0\n",
    "predict_label=model.predict(test_data)\n",
    "true_label=test_label.ravel()\n",
    "len_label=len(test_label.ravel())\n",
    "\n",
    "for i in range(len_label):\n",
    "    if(true_label[i]==0):\n",
    "        if(true_label[i]==predict_label[i]):\n",
    "            tn+=1\n",
    "        else:\n",
    "            fp+=1\n",
    "    else:\n",
    "        if(true_label[i]==predict_label[i]):\n",
    "            tp+=1\n",
    "        else:\n",
    "            fn+=1\n",
    "print(tp)\n",
    "print(fn)\n",
    "print(tn)\n",
    "print(fp)"
   ]
  },
  {
   "cell_type": "code",
   "execution_count": 60,
   "metadata": {},
   "outputs": [
    {
     "data": {
      "text/plain": [
       "False"
      ]
     },
     "execution_count": 60,
     "metadata": {},
     "output_type": "execute_result"
    }
   ],
   "source": [
    "1==0"
   ]
  },
  {
   "cell_type": "code",
   "execution_count": 8,
   "metadata": {},
   "outputs": [
    {
     "name": "stdout",
     "output_type": "stream",
     "text": [
      "训练集： 0.8555555555555555\n",
      "测试集： 0.7\n"
     ]
    }
   ],
   "source": [
    "train_score = model.score(train_data,train_label)\n",
    "print(\"训练集：\",train_score)\n",
    "test_score = model.score(test_data,test_label)\n",
    "print(\"测试集：\",test_score)"
   ]
  },
  {
   "cell_type": "markdown",
   "metadata": {
    "collapsed": true
   },
   "source": [
    "print('train_decision_function:\\n',model.decision_function(train_data))#（90，3）"
   ]
  },
  {
   "cell_type": "code",
   "execution_count": 27,
   "metadata": {
    "collapsed": true
   },
   "outputs": [
    {
     "name": "stderr",
     "output_type": "stream",
     "text": [
      "<ipython-input-27-13a361d7c2b3>:24: MatplotlibDeprecationWarning: shading='flat' when X and Y have the same dimensions as C is deprecated since 3.3.  Either specify the corners of the quadrilaterals with X and Y, or pass shading='auto', 'nearest' or 'gouraud', or set rcParams['pcolor.shading'].  This will become an error two minor releases later.\n",
      "  plt.pcolormesh(x1,x2,grid_hat,cmap=cm_light)# 预测值的显示\n"
     ]
    },
    {
     "data": {
      "image/png": "[encoded data removed]",
      "text/plain": [
       "<Figure size 432x288 with 1 Axes>"
      ]
     },
     "metadata": {
      "needs_background": "light"
     },
     "output_type": "display_data"
    }
   ],
   "source": [
    "#训练集和测试集的预测结果\n",
    "trainPredict = (model.predict(train_data).reshape(-1, 1))\n",
    "testPredict = model.predict(test_data).reshape(-1, 1)\n",
    "#将预测结果进行展示,首先画出预测点，再画出分类界面\n",
    "#预测点的画法，可参考https://zhuanlan.zhihu.com/p/81006952\n",
    "#画图例和点集\n",
    "x1_min,x1_max=x[:,0].min(),x[:,0].max()   #x轴范围  \n",
    "x2_min,x2_max=x[:,1].min(),x[:,1].max()   #y轴范围\n",
    "matplotlib.rcParams['font.sans-serif']=['SimHei']   #指定默认字体\n",
    "cm_dark=matplotlib.colors.ListedColormap(['g','r','b'])  #设置点集颜色格式  \n",
    "cm_light=matplotlib.colors.ListedColormap(['#A0FFA0','#FFA0A0','#A0A0FF'])  #设置边界颜色 \n",
    "plt.xlabel('花萼长度',fontsize=13)        #x轴标注\n",
    "plt.ylabel('花萼宽度',fontsize=13)        #y轴标注\n",
    "plt.xlim(x1_min,x1_max)                   #x轴范围\n",
    "plt.ylim(x2_min,x2_max)                   #y轴范围\n",
    "plt.title('鸢尾花SVM二特征分类')          #标题\n",
    "plt.scatter(x[:,0],x[:,1],c=y[:,0],s=30,cmap=cm_dark)  #画出测试点  \n",
    "plt.scatter(test_data[:,0],test_data[:,1],c=test_label[:,0],s=30,edgecolors='k',zorder=2,cmap=cm_dark) #画出预测点，并将预测点圈出 \n",
    "#画分类界面\n",
    "x1,x2=np.mgrid[x1_min:x1_max:200j,x2_min:x2_max:200j]#生成网络采样点  \n",
    "grid_test=np.stack((x1.flat,x2.flat),axis=1)#测试点\n",
    "grid_hat=model.predict(grid_test)# 预测分类值  \n",
    "grid_hat=grid_hat.reshape(x1.shape)# 使之与输入的形状相同\n",
    "plt.pcolormesh(x1,x2,grid_hat,cmap=cm_light)# 预测值的显示 \n",
    "plt.show() "
   ]
  },
  {
   "cell_type": "code",
   "execution_count": 29,
   "metadata": {},
   "outputs": [
    {
     "ename": "NameError",
     "evalue": "name 'score' is not defined",
     "output_type": "error",
     "traceback": [
      "\u001b[1;31m---------------------------------------------------------------------------\u001b[0m",
      "\u001b[1;31mNameError\u001b[0m                                 Traceback (most recent call last)",
      "\u001b[1;32m<ipython-input-29-f7b147509b6b>\u001b[0m in \u001b[0;36m<module>\u001b[1;34m\u001b[0m\n\u001b[1;32m----> 1\u001b[1;33m \u001b[0mhelp\u001b[0m\u001b[1;33m(\u001b[0m\u001b[0mscore\u001b[0m\u001b[1;33m(\u001b[0m\u001b[1;33m)\u001b[0m\u001b[1;33m)\u001b[0m\u001b[1;33m\u001b[0m\u001b[1;33m\u001b[0m\u001b[0m\n\u001b[0m",
      "\u001b[1;31mNameError\u001b[0m: name 'score' is not defined"
     ]
    }
   ],
   "source": [
    "help(score())"
   ]
  },
  {
   "cell_type": "code",
   "execution_count": null,
   "metadata": {},
   "outputs": [],
   "source": []
  },
  {
   "cell_type": "code",
   "execution_count": 58,
   "metadata": {},
   "outputs": [
    {
     "name": "stdout",
     "output_type": "stream",
     "text": [
      "[[15.147376352548601]]\n",
      "[[13.686402922868727], [15.89791621863842], [14.220509487390517], [13.386374402046203], [14.307416099309922]]\n"
     ]
    },
    {
     "ename": "NameError",
     "evalue": "name 'model' is not defined",
     "output_type": "error",
     "traceback": [
      "\u001b[1;31m---------------------------------------------------------------------------\u001b[0m",
      "\u001b[1;31mNameError\u001b[0m                                 Traceback (most recent call last)",
      "\u001b[1;32m<ipython-input-58-cffbd19e1f9c>\u001b[0m in \u001b[0;36m<module>\u001b[1;34m\u001b[0m\n\u001b[0;32m     33\u001b[0m \u001b[0mprint\u001b[0m\u001b[1;33m(\u001b[0m\u001b[0mb\u001b[0m\u001b[1;33m)\u001b[0m\u001b[1;33m\u001b[0m\u001b[1;33m\u001b[0m\u001b[0m\n\u001b[0;32m     34\u001b[0m \u001b[1;33m\u001b[0m\u001b[0m\n\u001b[1;32m---> 35\u001b[1;33m \u001b[0mtrain_score\u001b[0m \u001b[1;33m=\u001b[0m \u001b[0mmodel\u001b[0m\u001b[1;33m.\u001b[0m\u001b[0mscore\u001b[0m\u001b[1;33m(\u001b[0m\u001b[0mtrain_data\u001b[0m\u001b[1;33m,\u001b[0m\u001b[0mtrain_label\u001b[0m\u001b[1;33m)\u001b[0m\u001b[1;33m\u001b[0m\u001b[1;33m\u001b[0m\u001b[0m\n\u001b[0m\u001b[0;32m     36\u001b[0m \u001b[0mprint\u001b[0m\u001b[1;33m(\u001b[0m\u001b[1;34m\"训练集：\"\u001b[0m\u001b[1;33m,\u001b[0m\u001b[0mtrain_score\u001b[0m\u001b[1;33m)\u001b[0m\u001b[1;33m\u001b[0m\u001b[1;33m\u001b[0m\u001b[0m\n",
      "\u001b[1;31mNameError\u001b[0m: name 'model' is not defined"
     ]
    }
   ],
   "source": [
    "\n",
    "def dds(path):# 获得某一文件的正类和负类分组\n",
    "    file = pd.read_csv(url)\n",
    "    tl=[]# true label\n",
    "    fl=[]# false label\n",
    "    def true_false_sep(series):\n",
    "        la = series[\"label\"]\n",
    "        fe = series[\"feature\"]\n",
    "        if la==1:\n",
    "            tl.append(eval(fe))\n",
    "        else:\n",
    "            fl.append(eval(fe))     \n",
    "    file.apply(true_false_sep,axis=1)\n",
    "    return tl,fl\n",
    "    \n",
    "a,b=dds('text.csv')\n",
    "print(a)\n",
    "print(b)\n",
    "\n",
    "train_score = model.score(train_data,train_label)\n",
    "print(\"训练集：\",train_score)"
   ]
  },
  {
   "cell_type": "code",
   "execution_count": 55,
   "metadata": {},
   "outputs": [
    {
     "ename": "NameError",
     "evalue": "name 'model' is not defined",
     "output_type": "error",
     "traceback": [
      "\u001b[1;31m---------------------------------------------------------------------------\u001b[0m",
      "\u001b[1;31mNameError\u001b[0m                                 Traceback (most recent call last)",
      "\u001b[1;32m<ipython-input-55-69d2513a9a41>\u001b[0m in \u001b[0;36m<module>\u001b[1;34m\u001b[0m\n\u001b[1;32m----> 1\u001b[1;33m \u001b[0mtrain_score\u001b[0m \u001b[1;33m=\u001b[0m \u001b[0mmodel\u001b[0m\u001b[1;33m.\u001b[0m\u001b[0mscore\u001b[0m\u001b[1;33m(\u001b[0m\u001b[0mtrain_data\u001b[0m\u001b[1;33m,\u001b[0m\u001b[0mtrain_label\u001b[0m\u001b[1;33m)\u001b[0m\u001b[1;33m\u001b[0m\u001b[1;33m\u001b[0m\u001b[0m\n\u001b[0m\u001b[0;32m      2\u001b[0m \u001b[0mprint\u001b[0m\u001b[1;33m(\u001b[0m\u001b[1;34m\"训练集：\"\u001b[0m\u001b[1;33m,\u001b[0m\u001b[0mtrain_score\u001b[0m\u001b[1;33m)\u001b[0m\u001b[1;33m\u001b[0m\u001b[1;33m\u001b[0m\u001b[0m\n\u001b[0;32m      3\u001b[0m \u001b[0mtest_score\u001b[0m \u001b[1;33m=\u001b[0m \u001b[0mmodel\u001b[0m\u001b[1;33m.\u001b[0m\u001b[0mscore\u001b[0m\u001b[1;33m(\u001b[0m\u001b[0mtest_data\u001b[0m\u001b[1;33m,\u001b[0m\u001b[0mtest_label\u001b[0m\u001b[1;33m)\u001b[0m\u001b[1;33m\u001b[0m\u001b[1;33m\u001b[0m\u001b[0m\n\u001b[0;32m      4\u001b[0m \u001b[0mprint\u001b[0m\u001b[1;33m(\u001b[0m\u001b[1;34m\"测试集：\"\u001b[0m\u001b[1;33m,\u001b[0m\u001b[0mtest_score\u001b[0m\u001b[1;33m)\u001b[0m\u001b[1;33m\u001b[0m\u001b[1;33m\u001b[0m\u001b[0m\n",
      "\u001b[1;31mNameError\u001b[0m: name 'model' is not defined"
     ]
    }
   ],
   "source": [
    "train_score = model.score(train_data,train_label)\n",
    "print(\"训练集：\",train_score)\n",
    "test_score = model.score(test_data,test_label)\n",
    "print(\"测试集：\",test_score)"
   ]
  },
  {
   "cell_type": "code",
   "execution_count": null,
   "metadata": {},
   "outputs": [],
   "source": []
  },
  {
   "cell_type": "code",
   "execution_count": null,
   "metadata": {},
   "outputs": [],
   "source": []
  },
  {
   "cell_type": "code",
   "execution_count": null,
   "metadata": {},
   "outputs": [],
   "source": []
  },
  {
   "cell_type": "code",
   "execution_count": null,
   "metadata": {},
   "outputs": [],
   "source": []
  }
 ],
 "metadata": {
  "kernelspec": {
   "display_name": "Python 3",
   "language": "python",
   "name": "python3"
  },
  "language_info": {
   "codemirror_mode": {
    "name": "ipython",
    "version": 3
   },
   "file_extension": ".py",
   "mimetype": "text/x-python",
   "name": "python",
   "nbconvert_exporter": "python",
   "pygments_lexer": "ipython3",
   "version": "3.8.5"
  }
 },
 "nbformat": 4,
 "nbformat_minor": 4
}
