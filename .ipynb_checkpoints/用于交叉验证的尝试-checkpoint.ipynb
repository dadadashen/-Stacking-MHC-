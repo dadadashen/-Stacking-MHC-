{
 "cells": [
  {
   "cell_type": "code",
   "execution_count": 1,
   "id": "million-electronics",
   "metadata": {},
   "outputs": [],
   "source": [
    "import os, sys\n",
    "from os import listdir, getcwd\n",
    "from os.path import join\n",
    "import shutil\n",
    "import pandas as pd\n",
    "import datetime\n",
    "from gensim.models import word2vec \n",
    "\n",
    "from sklearn import svm\n",
    "from sklearn.model_selection import train_test_split\n",
    "import numpy as np\n",
    "import matplotlib.pyplot as plt\n",
    "import matplotlib\n",
    "\n",
    "from sklearn.datasets import load_breast_cancer\n",
    "from sklearn import metrics\n",
    "from sklearn.ensemble import RandomForestClassifier\n",
    "import pylab as plt\n",
    "import warnings;warnings.filterwarnings('ignore')\n",
    "\n",
    "from  sklearn.datasets  import  make_hastie_10_2\n",
    "from xgboost.sklearn import XGBClassifier\n",
    "\n"
   ]
  },
  {
   "cell_type": "code",
   "execution_count": 3,
   "id": "intelligent-agenda",
   "metadata": {},
   "outputs": [],
   "source": [
    "from sklearn.datasets import load_iris\n",
    "from sklearn.preprocessing import StandardScaler\n",
    "from sklearn import model_selection\n",
    "from sklearn.linear_model import LogisticRegression\n",
    "from sklearn.neighbors import KNeighborsClassifier\n",
    "from sklearn.naive_bayes import GaussianNB \n",
    "from sklearn.ensemble import RandomForestClassifier\n",
    "from mlxtend.classifier import StackingClassifier\n",
    "from sklearn.metrics import accuracy_score\n",
    "from sklearn.metrics import confusion_matrix\n",
    "from sklearn.metrics import classification_report\n",
    "import warnings; warnings.filterwarnings(action='ignore')\n",
    "\n"
   ]
  },
  {
   "cell_type": "code",
   "execution_count": 4,
   "id": "ruled-outline",
   "metadata": {},
   "outputs": [],
   "source": [
    "from sklearn.datasets import make_classification\n",
    "from sklearn.model_selection import StratifiedKFold\n",
    "from sklearn.model_selection import train_test_split\n",
    "from sklearn.ensemble import GradientBoostingClassifier as GBDT\n",
    "from sklearn.ensemble import ExtraTreesClassifier as ET\n",
    "from sklearn.ensemble import RandomForestClassifier as RF\n",
    "from sklearn.ensemble import AdaBoostClassifier as ADA\n",
    "from sklearn.linear_model import LogisticRegression\n",
    "from sklearn.metrics import roc_auc_score\n",
    "import numpy as np\n",
    "\n",
    "from sklearn.neural_network import MLPClassifier# 多层感知机\n",
    "from sklearn.experimental import enable_hist_gradient_boosting#Histogram-Based Gradient Boosting\n",
    "from sklearn.ensemble import HistGradientBoostingClassifier\n",
    "from sklearn.datasets import make_hastie_10_2\n",
    "\n"
   ]
  },
  {
   "cell_type": "code",
   "execution_count": 5,
   "id": "surprised-chair",
   "metadata": {},
   "outputs": [],
   "source": [
    "def str2list(x):\n",
    "    x=eval(x)\n",
    "    return x\n",
    "def show_auc(model,test_data,test_label,title_name): #画出 ROC 曲线（receiver operating characteristic curve）\n",
    "    pred = model.predict_proba(np.array(test_data))[:,1]\n",
    "    fpr, tpr, threshold = metrics.roc_curve(test_label, pred)\n",
    "    roc_auc = metrics.auc(fpr, tpr)\n",
    "    plt.figure(figsize=(6,6))\n",
    "    plt.title(title_name)\n",
    "    plt.plot(fpr, tpr, 'b', label = 'Val AUC = %0.3f' % roc_auc)\n",
    "    plt.legend(loc = 'lower right')\n",
    "    plt.plot([0, 1], [0, 1],'r--')\n",
    "    plt.xlim([0, 1])\n",
    "    plt.ylim([0, 1])\n",
    "    plt.ylabel('True Positive Rate')\n",
    "    plt.xlabel('False Positive Rate')\n",
    "    plt.show()\n",
    "    print('AUC= ',roc_auc)"
   ]
  },
  {
   "cell_type": "markdown",
   "id": "abandoned-sword",
   "metadata": {},
   "source": [
    "### 生成数据\n",
    "##### GBDT。参数：https://scikit-learn.org/stable/modules/generated/sklearn.ensemble.HistGradientBoostingClassifier.html#sklearn.ensemble.HistGradientBoostingClassifier。中文概述：https://github.com/NLP-LOVE/ML-NLP/blob/master/Machine%20Learning/3.2%20GBDT/3.2%20GBDT.md\n",
    "##### XGBoost。 官方文档：https://xgboost.readthedocs.io/en/latest/python/python_api.html#module-xgboost.sklearn 中文概述：https://www.cnblogs.com/mantch/p/11164221.html 参数介绍：https://www.cnblogs.com/wanglei5205/p/8579244.html 调参指导：https://eason.blog.csdn.net/article/details/87313329"
   ]
  },
  {
   "cell_type": "markdown",
   "id": "covered-theorem",
   "metadata": {},
   "source": [
    "### 自动调参hyperopt\n",
    "中文详细教程 1. https://www.cnblogs.com/gczr/p/7156270.html 2. https://www.e-learn.cn/topic/3764662"
   ]
  },
  {
   "cell_type": "code",
   "execution_count": 119,
   "id": "crucial-village",
   "metadata": {},
   "outputs": [],
   "source": [
    "xgb_clf = XGBClassifier(\n",
    "    \n",
    "    n_estimators=500,#树的个数\n",
    "    max_depth=6, # 构建树的深度，越大越容易过拟合\n",
    "    min_child_weight=1, \n",
    "    # 这个参数默认是 1，是每个叶子里面 h 的和至少是多少，对正负样本不均衡时的 0-1 分类而言\n",
    "    #，假设 h 在 0.01 附近，min_child_weight 为 1 意味着叶子节点中最少需要包含 100 个样本。\n",
    "    #这个参数非常影响结果，控制叶子节点中二阶导的和的最小值，该参数值越小，越容易 overfitting。\n",
    "    \n",
    "    gamma=0,  # 树的叶子节点上作进一步分区所需的最小损失减少,越大越保守，一般0.1、0.2这样子\n",
    ")"
   ]
  },
  {
   "cell_type": "code",
   "execution_count": 9,
   "id": "executive-campbell",
   "metadata": {},
   "outputs": [
    {
     "name": "stdout",
     "output_type": "stream",
     "text": [
      "[SVC(C=0.5, decision_function_shape='ovo', gamma='auto', probability=True), SVC(decision_function_shape='ovo', gamma='auto', probability=True), SVC(decision_function_shape='ovo', gamma='auto', probability=True), SVC(C=2.0, decision_function_shape='ovo', gamma='auto', probability=True), SVC(C=2.0, decision_function_shape='ovo', gamma='auto', probability=True), SVC(C=4.0, decision_function_shape='ovo', gamma='auto', probability=True), SVC(C=4.0, decision_function_shape='ovo', gamma='auto', probability=True), SVC(C=8.0, decision_function_shape='ovo', gamma='auto', probability=True), SVC(C=8.0, decision_function_shape='ovo', gamma='auto', probability=True), SVC(C=16.0, decision_function_shape='ovo', gamma='auto', probability=True)]\n"
     ]
    }
   ],
   "source": [
    "# clfs=[XGBClassifier(),ET(n_estimators=100),HistGradientBoostingClassifier(max_iter=100),\n",
    "#       MLPClassifier(solver='lbfgs', alpha=1e-5,hidden_layer_sizes=(5, 2), random_state=1,activation='logistic'),\n",
    "#       AdaBoostClassifier(n_estimators=100),RandomForestClassifier(max_depth=15, random_state=0) \n",
    "# ]\n",
    "n_tree=[0.5]\n",
    "for i in range(9):\n",
    "    n_tree.append(n_tree[i-1]*2)\n",
    "clfs=[]\n",
    "for i in range(len(n_tree)):\n",
    "    clfs.append(svm.SVC(C=n_tree[i],kernel='rbf',gamma='auto',decision_function_shape='ovo',probability=True))\n",
    "\n",
    "\n",
    "print(clfs)\n"
   ]
  },
  {
   "cell_type": "code",
   "execution_count": null,
   "id": "imported-yahoo",
   "metadata": {
    "scrolled": false
   },
   "outputs": [
    {
     "name": "stdout",
     "output_type": "stream",
     "text": [
      "第 1 次 \n",
      "分类器：SVC(C=0.5, decision_function_shape='ovo', gamma='auto', probability=True)\n",
      "第 1 次"
     ]
    }
   ],
   "source": [
    "\n",
    "\n",
    "\n",
    "run_time=[]\n",
    "aucs=[]\n",
    "for j in range(len(clfs)):\n",
    "    auc_cv=[]\n",
    "    model=clfs[j]\n",
    "    print('第',j+1,'次',end=' ')\n",
    "    print(\"\\n分类器：{}\".format(model))\n",
    "    ii=0\n",
    "    for i in range(5):\n",
    "        print('第',i+1,'次',end='')\n",
    "        train_5cv='train_data_5cv'+'//'+'t'+str(i)+'//'+'t'+str(i)+'.csv'# 路径为 /train_data_5cv/t0\n",
    "        test_5cv='train_data_5cv'+'//'+'t'+str(i)+'//'+'train'+str(i)+'.csv' #部分训练集用作验证集\n",
    "\n",
    "        #数据\n",
    "        train_file=pd.read_csv(train_5cv)\n",
    "        train_data=list(train_file['feature_row'].apply(str2list))\n",
    "        train_label=list(train_file['Boole'])\n",
    "        test_file=pd.read_csv(test_5cv)\n",
    "        test_data=list(test_file['feature_row'].apply(str2list))\n",
    "        test_label=list(test_file['Boole'])\n",
    "    #     model=svm.SVC(C=8,kernel='rbf',gamma=10,decision_function_shape='ovo',probability=True) \n",
    "    #     model.fit(train_data,train_label)\n",
    "    \n",
    "        #开始训练\n",
    "        start = datetime.datetime.now()\n",
    "        model.fit(np.array(train_data),np.array(train_label))\n",
    "        end = datetime.datetime.now()\n",
    "        ii+=(end-start).total_seconds()\n",
    "        \n",
    "        \n",
    "        pred = model.predict_proba(np.array(test_data))[:,1]\n",
    "        fpr, tpr, threshold = metrics.roc_curve(test_label, pred)\n",
    "        auc_cv.append(metrics.auc(fpr, tpr))\n",
    "        print(auc_cv[i])\n",
    "    \n",
    "    run_time.append(ii)\n",
    "    tem=auc_cv[0]\n",
    "    m=0\n",
    "    s=0\n",
    "    for i in range(5):\n",
    "        print(auc_cv[i],end=' ')\n",
    "        s+=auc_cv[i]\n",
    "        if tem<=auc_cv[i]:\n",
    "            tem=auc_cv[i]\n",
    "            m=i\n",
    "    print('\\n max auc= ',tem,' mean auc= ',s/5)\n",
    "    aucs.append(s/5)\n",
    "#     print('auc_cv',auc_cv)\n",
    "    \n",
    "#     test_file=pd.read_csv('test_s04.csv')\n",
    "#     test_data=list(test_file['feature_row'].apply(str2list))\n",
    "#     test_label=list(test_file['Boole'])\n",
    "#     show_auc(end_model,test_data,test_label,str(j)+' model')\n",
    "#     print('model_cv',model_cv)\n",
    "    "
   ]
  },
  {
   "cell_type": "code",
   "execution_count": null,
   "id": "magnetic-attempt",
   "metadata": {
    "scrolled": true
   },
   "outputs": [],
   "source": [
    "for i in aucs:\n",
    "    print(i\n",
    "         )\n",
    "    \n",
    "for i in run_time:\n",
    "    print(i\n",
    "         )    "
   ]
  },
  {
   "cell_type": "code",
   "execution_count": null,
   "id": "executive-commerce",
   "metadata": {},
   "outputs": [],
   "source": [
    "这是rf的调参结果\n",
    "0.8503340033013848\n",
    "0.8503670558025294\n",
    "0.8504059536794564\n",
    "0.8503701182509115\n",
    "0.8503809528908682\n",
    "0.8503455306157612\n",
    "18.649789\n",
    "18.134964\n",
    "18.3509\n",
    "21.263397\n",
    "22.259894000000003\n",
    "21.021679"
   ]
  },
  {
   "cell_type": "code",
   "execution_count": 85,
   "id": "tired-still",
   "metadata": {
    "collapsed": true
   },
   "outputs": [
    {
     "ename": "ValueError",
     "evalue": "x and y must have same first dimension, but have shapes (100,) and (80,)",
     "output_type": "error",
     "traceback": [
      "\u001b[1;31m---------------------------------------------------------------------------\u001b[0m",
      "\u001b[1;31mValueError\u001b[0m                                Traceback (most recent call last)",
      "\u001b[1;32m<ipython-input-85-4837140fd0f2>\u001b[0m in \u001b[0;36m<module>\u001b[1;34m\u001b[0m\n\u001b[0;32m      9\u001b[0m \u001b[0mplt\u001b[0m\u001b[1;33m.\u001b[0m\u001b[0mylabel\u001b[0m\u001b[1;33m(\u001b[0m\u001b[1;34m\"auc\"\u001b[0m\u001b[1;33m,\u001b[0m \u001b[0mfontsize\u001b[0m\u001b[1;33m=\u001b[0m\u001b[1;36m16\u001b[0m\u001b[1;33m)\u001b[0m\u001b[1;33m\u001b[0m\u001b[1;33m\u001b[0m\u001b[0m\n\u001b[0;32m     10\u001b[0m \u001b[1;33m\u001b[0m\u001b[0m\n\u001b[1;32m---> 11\u001b[1;33m \u001b[0mplt\u001b[0m\u001b[1;33m.\u001b[0m\u001b[0mplot\u001b[0m\u001b[1;33m(\u001b[0m\u001b[0mx_data\u001b[0m\u001b[1;33m,\u001b[0m\u001b[0my_data\u001b[0m\u001b[1;33m)\u001b[0m\u001b[1;33m\u001b[0m\u001b[1;33m\u001b[0m\u001b[0m\n\u001b[0m\u001b[0;32m     12\u001b[0m \u001b[0mplt\u001b[0m\u001b[1;33m.\u001b[0m\u001b[0mshow\u001b[0m\u001b[1;33m(\u001b[0m\u001b[1;33m)\u001b[0m\u001b[1;33m\u001b[0m\u001b[1;33m\u001b[0m\u001b[0m\n",
      "\u001b[1;32mD:\\run_python\\lib\\site-packages\\matplotlib\\pyplot.py\u001b[0m in \u001b[0;36mplot\u001b[1;34m(scalex, scaley, data, *args, **kwargs)\u001b[0m\n\u001b[0;32m   2838\u001b[0m \u001b[1;33m@\u001b[0m\u001b[0m_copy_docstring_and_deprecators\u001b[0m\u001b[1;33m(\u001b[0m\u001b[0mAxes\u001b[0m\u001b[1;33m.\u001b[0m\u001b[0mplot\u001b[0m\u001b[1;33m)\u001b[0m\u001b[1;33m\u001b[0m\u001b[1;33m\u001b[0m\u001b[0m\n\u001b[0;32m   2839\u001b[0m \u001b[1;32mdef\u001b[0m \u001b[0mplot\u001b[0m\u001b[1;33m(\u001b[0m\u001b[1;33m*\u001b[0m\u001b[0margs\u001b[0m\u001b[1;33m,\u001b[0m \u001b[0mscalex\u001b[0m\u001b[1;33m=\u001b[0m\u001b[1;32mTrue\u001b[0m\u001b[1;33m,\u001b[0m \u001b[0mscaley\u001b[0m\u001b[1;33m=\u001b[0m\u001b[1;32mTrue\u001b[0m\u001b[1;33m,\u001b[0m \u001b[0mdata\u001b[0m\u001b[1;33m=\u001b[0m\u001b[1;32mNone\u001b[0m\u001b[1;33m,\u001b[0m \u001b[1;33m**\u001b[0m\u001b[0mkwargs\u001b[0m\u001b[1;33m)\u001b[0m\u001b[1;33m:\u001b[0m\u001b[1;33m\u001b[0m\u001b[1;33m\u001b[0m\u001b[0m\n\u001b[1;32m-> 2840\u001b[1;33m     return gca().plot(\n\u001b[0m\u001b[0;32m   2841\u001b[0m         \u001b[1;33m*\u001b[0m\u001b[0margs\u001b[0m\u001b[1;33m,\u001b[0m \u001b[0mscalex\u001b[0m\u001b[1;33m=\u001b[0m\u001b[0mscalex\u001b[0m\u001b[1;33m,\u001b[0m \u001b[0mscaley\u001b[0m\u001b[1;33m=\u001b[0m\u001b[0mscaley\u001b[0m\u001b[1;33m,\u001b[0m\u001b[1;33m\u001b[0m\u001b[1;33m\u001b[0m\u001b[0m\n\u001b[0;32m   2842\u001b[0m         **({\"data\": data} if data is not None else {}), **kwargs)\n",
      "\u001b[1;32mD:\\run_python\\lib\\site-packages\\matplotlib\\axes\\_axes.py\u001b[0m in \u001b[0;36mplot\u001b[1;34m(self, scalex, scaley, data, *args, **kwargs)\u001b[0m\n\u001b[0;32m   1741\u001b[0m         \"\"\"\n\u001b[0;32m   1742\u001b[0m         \u001b[0mkwargs\u001b[0m \u001b[1;33m=\u001b[0m \u001b[0mcbook\u001b[0m\u001b[1;33m.\u001b[0m\u001b[0mnormalize_kwargs\u001b[0m\u001b[1;33m(\u001b[0m\u001b[0mkwargs\u001b[0m\u001b[1;33m,\u001b[0m \u001b[0mmlines\u001b[0m\u001b[1;33m.\u001b[0m\u001b[0mLine2D\u001b[0m\u001b[1;33m)\u001b[0m\u001b[1;33m\u001b[0m\u001b[1;33m\u001b[0m\u001b[0m\n\u001b[1;32m-> 1743\u001b[1;33m         \u001b[0mlines\u001b[0m \u001b[1;33m=\u001b[0m \u001b[1;33m[\u001b[0m\u001b[1;33m*\u001b[0m\u001b[0mself\u001b[0m\u001b[1;33m.\u001b[0m\u001b[0m_get_lines\u001b[0m\u001b[1;33m(\u001b[0m\u001b[1;33m*\u001b[0m\u001b[0margs\u001b[0m\u001b[1;33m,\u001b[0m \u001b[0mdata\u001b[0m\u001b[1;33m=\u001b[0m\u001b[0mdata\u001b[0m\u001b[1;33m,\u001b[0m \u001b[1;33m**\u001b[0m\u001b[0mkwargs\u001b[0m\u001b[1;33m)\u001b[0m\u001b[1;33m]\u001b[0m\u001b[1;33m\u001b[0m\u001b[1;33m\u001b[0m\u001b[0m\n\u001b[0m\u001b[0;32m   1744\u001b[0m         \u001b[1;32mfor\u001b[0m \u001b[0mline\u001b[0m \u001b[1;32min\u001b[0m \u001b[0mlines\u001b[0m\u001b[1;33m:\u001b[0m\u001b[1;33m\u001b[0m\u001b[1;33m\u001b[0m\u001b[0m\n\u001b[0;32m   1745\u001b[0m             \u001b[0mself\u001b[0m\u001b[1;33m.\u001b[0m\u001b[0madd_line\u001b[0m\u001b[1;33m(\u001b[0m\u001b[0mline\u001b[0m\u001b[1;33m)\u001b[0m\u001b[1;33m\u001b[0m\u001b[1;33m\u001b[0m\u001b[0m\n",
      "\u001b[1;32mD:\\run_python\\lib\\site-packages\\matplotlib\\axes\\_base.py\u001b[0m in \u001b[0;36m__call__\u001b[1;34m(self, data, *args, **kwargs)\u001b[0m\n\u001b[0;32m    271\u001b[0m                 \u001b[0mthis\u001b[0m \u001b[1;33m+=\u001b[0m \u001b[0margs\u001b[0m\u001b[1;33m[\u001b[0m\u001b[1;36m0\u001b[0m\u001b[1;33m]\u001b[0m\u001b[1;33m,\u001b[0m\u001b[1;33m\u001b[0m\u001b[1;33m\u001b[0m\u001b[0m\n\u001b[0;32m    272\u001b[0m                 \u001b[0margs\u001b[0m \u001b[1;33m=\u001b[0m \u001b[0margs\u001b[0m\u001b[1;33m[\u001b[0m\u001b[1;36m1\u001b[0m\u001b[1;33m:\u001b[0m\u001b[1;33m]\u001b[0m\u001b[1;33m\u001b[0m\u001b[1;33m\u001b[0m\u001b[0m\n\u001b[1;32m--> 273\u001b[1;33m             \u001b[1;32myield\u001b[0m \u001b[1;32mfrom\u001b[0m \u001b[0mself\u001b[0m\u001b[1;33m.\u001b[0m\u001b[0m_plot_args\u001b[0m\u001b[1;33m(\u001b[0m\u001b[0mthis\u001b[0m\u001b[1;33m,\u001b[0m \u001b[0mkwargs\u001b[0m\u001b[1;33m)\u001b[0m\u001b[1;33m\u001b[0m\u001b[1;33m\u001b[0m\u001b[0m\n\u001b[0m\u001b[0;32m    274\u001b[0m \u001b[1;33m\u001b[0m\u001b[0m\n\u001b[0;32m    275\u001b[0m     \u001b[1;32mdef\u001b[0m \u001b[0mget_next_color\u001b[0m\u001b[1;33m(\u001b[0m\u001b[0mself\u001b[0m\u001b[1;33m)\u001b[0m\u001b[1;33m:\u001b[0m\u001b[1;33m\u001b[0m\u001b[1;33m\u001b[0m\u001b[0m\n",
      "\u001b[1;32mD:\\run_python\\lib\\site-packages\\matplotlib\\axes\\_base.py\u001b[0m in \u001b[0;36m_plot_args\u001b[1;34m(self, tup, kwargs)\u001b[0m\n\u001b[0;32m    397\u001b[0m \u001b[1;33m\u001b[0m\u001b[0m\n\u001b[0;32m    398\u001b[0m         \u001b[1;32mif\u001b[0m \u001b[0mx\u001b[0m\u001b[1;33m.\u001b[0m\u001b[0mshape\u001b[0m\u001b[1;33m[\u001b[0m\u001b[1;36m0\u001b[0m\u001b[1;33m]\u001b[0m \u001b[1;33m!=\u001b[0m \u001b[0my\u001b[0m\u001b[1;33m.\u001b[0m\u001b[0mshape\u001b[0m\u001b[1;33m[\u001b[0m\u001b[1;36m0\u001b[0m\u001b[1;33m]\u001b[0m\u001b[1;33m:\u001b[0m\u001b[1;33m\u001b[0m\u001b[1;33m\u001b[0m\u001b[0m\n\u001b[1;32m--> 399\u001b[1;33m             raise ValueError(f\"x and y must have same first dimension, but \"\n\u001b[0m\u001b[0;32m    400\u001b[0m                              f\"have shapes {x.shape} and {y.shape}\")\n\u001b[0;32m    401\u001b[0m         \u001b[1;32mif\u001b[0m \u001b[0mx\u001b[0m\u001b[1;33m.\u001b[0m\u001b[0mndim\u001b[0m \u001b[1;33m>\u001b[0m \u001b[1;36m2\u001b[0m \u001b[1;32mor\u001b[0m \u001b[0my\u001b[0m\u001b[1;33m.\u001b[0m\u001b[0mndim\u001b[0m \u001b[1;33m>\u001b[0m \u001b[1;36m2\u001b[0m\u001b[1;33m:\u001b[0m\u001b[1;33m\u001b[0m\u001b[1;33m\u001b[0m\u001b[0m\n",
      "\u001b[1;31mValueError\u001b[0m: x and y must have same first dimension, but have shapes (100,) and (80,)"
     ]
    },
    {
     "data": {
      "image/png": "[encoded data removed]",
      "text/plain": [
       "<Figure size 432x288 with 1 Axes>"
      ]
     },
     "metadata": {
      "needs_background": "light"
     },
     "output_type": "display_data"
    }
   ],
   "source": [
    "x_data = n_tree\n",
    "y_data = aucs\n",
    "\n",
    "plt.tick_params(axis='both', which='major', labelsize=14)\n",
    "\n",
    "# 设置图表标题并给坐标轴加上标签\n",
    "# plt.title(\"XGB_AUC\", fontsize=24) \n",
    "plt.xlabel(\"n_tree\", fontsize=16) \n",
    "plt.ylabel(\"auc\", fontsize=16)\n",
    "\n",
    "plt.plot(x_data,y_data)\n",
    "plt.show()"
   ]
  },
  {
   "cell_type": "code",
   "execution_count": 70,
   "id": "seven-intellectual",
   "metadata": {},
   "outputs": [
    {
     "data": {
      "image/png": "[encoded data removed]",
      "text/plain": [
       "<Figure size 432x288 with 1 Axes>"
      ]
     },
     "metadata": {
      "needs_background": "light"
     },
     "output_type": "display_data"
    }
   ],
   "source": [
    "x_data = n_tree\n",
    "y_data = run_time\n",
    "\n",
    "plt.tick_params(axis='both', which='major', labelsize=14)\n",
    "\n",
    "# 设置图表标题并给坐标轴加上标签\n",
    "# plt.title(\"XGB_AUC\", fontsize=24) \n",
    "plt.xlabel(\"n_tree\", fontsize=16) \n",
    "plt.ylabel(\"auc\", fontsize=16)\n",
    "\n",
    "plt.plot(x_data,y_data)\n",
    "plt.show()"
   ]
  },
  {
   "cell_type": "code",
   "execution_count": 57,
   "id": "consecutive-combine",
   "metadata": {},
   "outputs": [
    {
     "name": "stdout",
     "output_type": "stream",
     "text": [
      "[0.7640810774797195, 0.7655921144806257, 0.7649619129351284, 0.7666147371998501, 0.76992643573504]\n",
      "4 0.76992643573504\n"
     ]
    },
    {
     "data": {
      "image/png": "[encoded data removed]",
      "text/plain": [
       "<Figure size 432x432 with 1 Axes>"
      ]
     },
     "metadata": {
      "needs_background": "light"
     },
     "output_type": "display_data"
    },
    {
     "name": "stdout",
     "output_type": "stream",
     "text": [
      "AUC=  0.7702618571099462\n",
      "[SVC(C=8, decision_function_shape='ovo', gamma=10, probability=True), SVC(C=8, decision_function_shape='ovo', gamma=10, probability=True), SVC(C=8, decision_function_shape='ovo', gamma=10, probability=True), SVC(C=8, decision_function_shape='ovo', gamma=10, probability=True), SVC(C=8, decision_function_shape='ovo', gamma=10, probability=True)]\n",
      "[0.7640810774797195, 0.7655921144806257, 0.7649619129351284, 0.7666147371998501, 0.76992643573504]\n"
     ]
    }
   ],
   "source": [
    "'''\n",
    "svm\n",
    "'''\n",
    "print(auc_cv)\n",
    "tem=auc_cv[0]\n",
    "m=0\n",
    "for i in range(5):\n",
    "    if tem<=auc_cv[i]:\n",
    "        tem=auc_cv[i]\n",
    "        m=i\n",
    "print(m,tem)\n",
    "end_model=model_cv[m]\n",
    "\n",
    "test_file=pd.read_csv('test_s04.csv')\n",
    "test_data=list(test_file['feature_row'].apply(str2list))\n",
    "test_label=list(test_file['Boole'])\n",
    "    \n",
    "show_auc(end_model,test_data,test_label,'svm')\n",
    "svm_models=model_cv\n",
    "svm_auc=auc_cv\n",
    "print(svm_models)\n",
    "print(svm_auc)"
   ]
  },
  {
   "cell_type": "markdown",
   "id": "animated-camera",
   "metadata": {},
   "source": [
    "### 弱学习器"
   ]
  }
 ],
 "metadata": {
  "kernelspec": {
   "display_name": "Python 3",
   "language": "python",
   "name": "python3"
  },
  "language_info": {
   "codemirror_mode": {
    "name": "ipython",
    "version": 3
   },
   "file_extension": ".py",
   "mimetype": "text/x-python",
   "name": "python",
   "nbconvert_exporter": "python",
   "pygments_lexer": "ipython3",
   "version": "3.8.5"
  }
 },
 "nbformat": 4,
 "nbformat_minor": 5
}
