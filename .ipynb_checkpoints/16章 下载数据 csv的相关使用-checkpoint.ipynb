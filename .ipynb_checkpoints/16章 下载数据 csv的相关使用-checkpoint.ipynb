{
 "cells": [
  {
   "cell_type": "code",
   "execution_count": 8,
   "metadata": {},
   "outputs": [],
   "source": [
    "import csv \n",
    "\n",
    "filename='text1.csv'\n",
    "\n",
    "    "
   ]
  },
  {
   "cell_type": "code",
   "execution_count": 9,
   "metadata": {},
   "outputs": [
    {
     "name": "stdout",
     "output_type": "stream",
     "text": [
      "['Epitope ID', 'Description']\n"
     ]
    }
   ],
   "source": [
    "with open(filename) as f:\n",
    "    reader=csv.reader(f)#d也是一个文件对象\n",
    "    header_row=next(reader)#header_row是一个列表，reader是一个对象\n",
    "    \n",
    "    #打印csv文件的第一行数据\n",
    "    print(header_row)"
   ]
  },
  {
   "cell_type": "code",
   "execution_count": 10,
   "metadata": {},
   "outputs": [
    {
     "name": "stdout",
     "output_type": "stream",
     "text": [
      "0 Epitope ID\n",
      "1 Description\n"
     ]
    }
   ],
   "source": [
    "with open(filename) as f:\n",
    "    reader=csv.reader(f)#d也是一个文件对象\n",
    "    header_row=next(reader)#header_row是一个列表，reader是一个对象\n",
    "    \n",
    "    #以排名的方式打印csv文件的第一行数据\n",
    "    for index,column_header in enumerate(header_row):\n",
    "        #enumerate（）能获取每个元素的索引及其值\n",
    "        print(index ,column_header)"
   ]
  },
  {
   "cell_type": "code",
   "execution_count": 14,
   "metadata": {},
   "outputs": [
    {
     "name": "stdout",
     "output_type": "stream",
     "text": [
      "['ETLLRAVESYLLAHS', 'ETLLRAVESYLLAHSD', 'GETLLRAVESYLLAH', 'GETLLRAVESYLLAHS', 'LFKAFILDGDNLFPK', 'MGETLLRAVESYLLAHSD', 'TLLRAVESYLLAHSD', 'ASKEMGETLLRAVESYLLAHSDA', 'ASKEMGETLLRAVESYLLAHSDAYN', 'DRVDEVDHTNFKYNYS', 'EMGETLLRAVESYLLAHSDA', 'ETLLRAVESYLLAH', 'ETLLRAVESYLLAHSDA', 'FKAFILDGDNLFPK', 'FKYNYSVIEGGPIGDTLE', 'GETLLRAVESYLLAHSD', 'GETLLRAVESYLLAHSDA', 'GETLLRAVESYLLAHSDAYN', 'IPAARLFKAFILDGDNL', 'KEMGETLLRAVESYLLAHSDA', 'MGETLLRAVESYLLAHS', 'MGETLLRAVESYLLAHSDA', 'QVKASKEMGETLLRAVESYLLAHSDA', 'QVKASKEMGETLLRAVESYLLAHSDAYN', 'VIPAARLFKAFILDGDN']\n"
     ]
    }
   ],
   "source": [
    "with open(filename) as f:\n",
    "    reader=csv.reader(f)#d也是一个文件对象\n",
    "    header_row=next(reader)#header_row是一个列表，reader是一个对象\n",
    "    \n",
    "    highs=[]\n",
    "    for row in reader:#由于前面使用了一次next（），所以应该从第二行开始\n",
    "        highs.append(row[1])#row[0]就是第一列，row[1]就是第二列\n",
    "        \n",
    "    print(highs)"
   ]
  },
  {
   "cell_type": "code",
   "execution_count": null,
   "metadata": {},
   "outputs": [],
   "source": []
  }
 ],
 "metadata": {
  "kernelspec": {
   "display_name": "Python 3",
   "language": "python",
   "name": "python3"
  },
  "language_info": {
   "codemirror_mode": {
    "name": "ipython",
    "version": 3
   },
   "file_extension": ".py",
   "mimetype": "text/x-python",
   "name": "python",
   "nbconvert_exporter": "python",
   "pygments_lexer": "ipython3",
   "version": "3.8.5"
  }
 },
 "nbformat": 4,
 "nbformat_minor": 4
}
