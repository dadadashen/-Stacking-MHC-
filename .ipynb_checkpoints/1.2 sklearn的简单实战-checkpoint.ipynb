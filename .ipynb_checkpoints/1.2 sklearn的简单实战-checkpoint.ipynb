{
 "cells": [
  {
   "cell_type": "code",
   "execution_count": 39,
   "id": "institutional-sampling",
   "metadata": {
    "scrolled": true
   },
   "outputs": [
    {
     "name": "stdout",
     "output_type": "stream",
     "text": [
      "测试集的预测标签的概率值分别为\n",
      " [[0.4 0.6]\n",
      " [0.4 0.6]\n",
      " [0.4 0.6]]\n",
      "\n",
      "测试集的预测标签分别为\n",
      "  [1 1 1]\n",
      "测试集的真实标签分别为\n",
      "  [1 0 0]\n",
      "\n",
      "准确率： 0.3333333333333333\n"
     ]
    }
   ],
   "source": [
    "''' 引入模块（调包）'''\n",
    "from sklearn.ensemble import RandomForestClassifier #选用随机森林作为分类算法\n",
    "import numpy as np # numpy 常用语处理矩阵数据\n",
    "from sklearn.metrics import accuracy_score # 使用准确率作为评价标准\n",
    "\n",
    "''' 引入特征值和标签'''\n",
    "#训练数据的特征值\n",
    "train_data = np.array([[1,2],\n",
    "                      [1,3],\n",
    "                      [2,1],\n",
    "                      [4,5],\n",
    "                      [3,5],\n",
    "                      [1,7]])\n",
    "#训练数据的标签\n",
    "train_label = np.array([0, 0, 0, 1, 1, 1])\n",
    "#测试数据的特征值\n",
    "test_data = np.array([[1.5,1],\n",
    "                   [2,7],\n",
    "                   [2.5,7]])\n",
    "#测试数据的真实标签\n",
    "test_label = np.array([1,0,0])\n",
    "\n",
    "''' 训练 '''\n",
    "clf = RandomForestClassifier(n_estimators=5)#调整参数\n",
    "model = clf.fit(X, Y)#正式训练，得到模型，model\n",
    "\n",
    "'''预测'''\n",
    "pred_pr = model.predict_proba(x_test)\n",
    "print('测试集的预测标签的概率值分别为\\n',pred_pr)\n",
    "pred_int = model.predict(x_test)\n",
    "print('\\n测试集的预测标签分别为\\n ',pred_int)\n",
    "print('测试集的真实标签分别为\\n ',test_label)\n",
    "''' 评测预测结果'''\n",
    "# 真实标签[0, 1, 0] ，预测标签 [1 1 1 ]，对一个，准确率为1/3=0.3333333333333333\n",
    "print('\\n准确率：',accuracy_score(test_label, pred_int))"
   ]
  }
 ],
 "metadata": {
  "kernelspec": {
   "display_name": "Python 3",
   "language": "python",
   "name": "python3"
  },
  "language_info": {
   "codemirror_mode": {
    "name": "ipython",
    "version": 3
   },
   "file_extension": ".py",
   "mimetype": "text/x-python",
   "name": "python",
   "nbconvert_exporter": "python",
   "pygments_lexer": "ipython3",
   "version": "3.8.5"
  }
 },
 "nbformat": 4,
 "nbformat_minor": 5
}
