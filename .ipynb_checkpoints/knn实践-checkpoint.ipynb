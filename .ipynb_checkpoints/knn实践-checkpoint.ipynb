{
 "cells": [
  {
   "cell_type": "code",
   "execution_count": 18,
   "metadata": {
    "scrolled": false
   },
   "outputs": [
    {
     "name": "stdout",
     "output_type": "stream",
     "text": [
      "[[1.  1.1]\n",
      " [1.  1. ]\n",
      " [0.  0. ]\n",
      " [0.  0.1]]\n",
      "[[1.         1.04880885]\n",
      " [1.         1.        ]\n",
      " [0.         0.        ]\n",
      " [0.         0.31622777]]\n"
     ]
    },
    {
     "data": {
      "text/plain": [
       "array([2. , 2.2])"
      ]
     },
     "execution_count": 18,
     "metadata": {},
     "output_type": "execute_result"
    }
   ],
   "source": [
    "import kNN\n",
    "group,labels=kNN.createDataSet()\n",
    "# g=group**2\n",
    "print(group)\n",
    "print(group**0.5)\n",
    "group.sum(axis=0)\n",
    "\n"
   ]
  },
  {
   "cell_type": "markdown",
   "metadata": {},
   "source": [
    "### python通过变量的赋值、调用来解析数据，通过调用模块来加载数据。"
   ]
  },
  {
   "cell_type": "code",
   "execution_count": 5,
   "metadata": {},
   "outputs": [
    {
     "data": {
      "text/plain": [
       "['A', 'A', 'B', 'B']"
      ]
     },
     "execution_count": 5,
     "metadata": {},
     "output_type": "execute_result"
    }
   ],
   "source": [
    "labels"
   ]
  },
  {
   "cell_type": "code",
   "execution_count": null,
   "metadata": {},
   "outputs": [],
   "source": [
    "def classify0(in_x ,data_set,labels,k):\n",
    "    data_set_size=data_set.shape[0]#c.shape[0] 为第一维的长度，c.shape[1] 为第二维的长度\n",
    "    diff_mat=tile(in_x,(data_set_size,1))-data_set\n",
    "    '''\n",
    "    函数格式tile(A,reps)： 能够返回一个根据reps来复制往各个方向扩展的矩阵\n",
    "        >>> b=[1,3,5]\n",
    "        >>> tile(b,[2,3])\n",
    "        array([[1, 3, 5, 1, 3, 5, 1, 3, 5],\n",
    "               [1, 3, 5, 1, 3, 5, 1, 3, 5]])\n",
    "    '''\n",
    "    sq_diff_mat=diff_mat**2\n",
    "    sq_distances=sq_diff_mat.sum(axis=1)##axis=1，跨列相加。同一行的不同列相加，得到的一个转置的列向量\n",
    "    '''\n",
    "        argsort函数返回的是数组值从小到大的索引值\n",
    "        axis=0,按行排序。axis=1，按列排序\n",
    "        np.argsort(x) #按升序排列。    np.argsort(-x) #按降序排列\n",
    "        https://blog.csdn.net/u011475210/article/details/77770751\n",
    "    '''\n",
    "    distances=sq_distances**0.5\n",
    "    \n",
    "    \n",
    "    sorted_dist_indicies=distances.argsort()\n",
    "    class_count={}\n",
    "    for i in range(k):\n",
    "        vote_label=labels[sorted_dist_indicies[i]]\n",
    "        class_count[vote_label]=class_count.get(vote_label,0)+1\n",
    "    sorted_class_count=sorted(class_count.iteritems(),key=operator.itemgetter(1),reverse=True)\n",
    "    return sorted_class_count[0][0]\n",
    "    "
   ]
  },
  {
   "cell_type": "code",
   "execution_count": null,
   "metadata": {},
   "outputs": [],
   "source": []
  },
  {
   "cell_type": "code",
   "execution_count": null,
   "metadata": {},
   "outputs": [],
   "source": []
  },
  {
   "cell_type": "code",
   "execution_count": null,
   "metadata": {},
   "outputs": [],
   "source": []
  },
  {
   "cell_type": "code",
   "execution_count": null,
   "metadata": {},
   "outputs": [],
   "source": []
  },
  {
   "cell_type": "code",
   "execution_count": null,
   "metadata": {},
   "outputs": [],
   "source": []
  },
  {
   "cell_type": "code",
   "execution_count": null,
   "metadata": {},
   "outputs": [],
   "source": []
  },
  {
   "cell_type": "code",
   "execution_count": null,
   "metadata": {},
   "outputs": [],
   "source": []
  },
  {
   "cell_type": "code",
   "execution_count": null,
   "metadata": {},
   "outputs": [],
   "source": []
  },
  {
   "cell_type": "code",
   "execution_count": null,
   "metadata": {},
   "outputs": [],
   "source": []
  },
  {
   "cell_type": "code",
   "execution_count": null,
   "metadata": {},
   "outputs": [],
   "source": []
  },
  {
   "cell_type": "code",
   "execution_count": null,
   "metadata": {},
   "outputs": [],
   "source": []
  },
  {
   "cell_type": "code",
   "execution_count": null,
   "metadata": {},
   "outputs": [],
   "source": []
  }
 ],
 "metadata": {
  "kernelspec": {
   "display_name": "Python 3",
   "language": "python",
   "name": "python3"
  },
  "language_info": {
   "codemirror_mode": {
    "name": "ipython",
    "version": 3
   },
   "file_extension": ".py",
   "mimetype": "text/x-python",
   "name": "python",
   "nbconvert_exporter": "python",
   "pygments_lexer": "ipython3",
   "version": "3.8.5"
  }
 },
 "nbformat": 4,
 "nbformat_minor": 4
}
