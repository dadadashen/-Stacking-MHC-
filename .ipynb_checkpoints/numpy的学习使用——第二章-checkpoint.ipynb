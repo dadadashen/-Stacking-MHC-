{
 "cells": [
  {
   "cell_type": "code",
   "execution_count": null,
   "metadata": {
    "collapsed": true
   },
   "outputs": [],
   "source": [
    "#加载 scikit-learn 的数据集\n",
    "from sklearn import datasets\n",
    "\n",
    "#加载手写数字数据集\n",
    "digits=datasets.load_digits()\n",
    "\n",
    "#创建特征矩阵\n",
    "features=digits.data\n",
    "\n",
    "#创建目标向量\n",
    "target=digits.target\n",
    "\n",
    "#查看第一个样本数据\n",
    "features[0]\n"
   ]
  },
  {
   "cell_type": "code",
   "execution_count": null,
   "metadata": {
    "collapsed": true
   },
   "outputs": [],
   "source": [
    "help(datasets)"
   ]
  },
  {
   "cell_type": "code",
   "execution_count": null,
   "metadata": {
    "collapsed": true
   },
   "outputs": [],
   "source": [
    "dir(datasets)"
   ]
  },
  {
   "cell_type": "code",
   "execution_count": 49,
   "metadata": {
    "collapsed": true
   },
   "outputs": [
    {
     "name": "stdout",
     "output_type": "stream",
     "text": [
      "Feature Matrix\n",
      " [[ 1.30022717 -0.7856539 ]\n",
      " [ 1.44184425 -0.56008554]\n",
      " [-0.84792445 -1.36621324]\n",
      " [-0.72215015 -1.41129414]\n",
      " [-1.27221465  0.25945106]\n",
      " [ 0.78694271  0.94294879]\n",
      " [ 0.81695766 -1.12478707]\n",
      " [ 1.6822707  -0.67596877]\n",
      " [-1.07223343 -0.7701513 ]\n",
      " [-0.06539297  1.11257376]]\n",
      "Target Vector\n",
      " [1 1 0 0 0 1 1 1 0 1]\n"
     ]
    },
    {
     "data": {
      "image/png": "[encoded data removed]",
      "text/plain": [
       "<Figure size 432x288 with 1 Axes>"
      ]
     },
     "metadata": {
      "needs_background": "light"
     },
     "output_type": "display_data"
    }
   ],
   "source": [
    "# 加载库\n",
    "from sklearn.datasets import make_classification\n",
    "\n",
    "# 生成特征矩阵和目标向量\n",
    "features, target = make_classification(n_samples = 100,# features, target 都是矩阵\n",
    " n_features = 2,\n",
    " n_informative = 2,\n",
    " n_redundant = 0,\n",
    " n_classes = 2,\n",
    " weights = [.25, .75],\n",
    " random_state = 1)\n",
    "\n",
    "# 查看特征矩阵和目标向量\n",
    "print('Feature Matrix\\n', features[:10])#shape是一个 100*3 的矩阵\n",
    "print('Target Vector\\n', target[:10])# target是一个 100*1 的行向量\n",
    "# features.shape   \n",
    "# target.shape \n",
    "# print(features[:,0])\n",
    "# 加载库\n",
    "import matplotlib.pyplot as plt\n",
    "# 查看散点图\n",
    "plt.scatter(features[:,0], features[:,1],  c=target)# 根据特征矩阵的第一列、第二列来绘制点，点的颜色根据target来确定\n",
    "plt.show()"
   ]
  },
  {
   "cell_type": "code",
   "execution_count": 7,
   "metadata": {
    "collapsed": true
   },
   "outputs": [
    {
     "name": "stdout",
     "output_type": "stream",
     "text": [
      "Help on function make_classification in module sklearn.datasets._samples_generator:\n",
      "\n",
      "make_classification(n_samples=100, n_features=20, *, n_informative=2, n_redundant=2, n_repeated=0, n_classes=2, n_clusters_per_class=2, weights=None, flip_y=0.01, class_sep=1.0, hypercube=True, shift=0.0, scale=1.0, shuffle=True, random_state=None)\n",
      "    Generate a random n-class classification problem.\n",
      "    \n",
      "    This initially creates clusters of points normally distributed (std=1)\n",
      "    about vertices of an ``n_informative``-dimensional hypercube with sides of\n",
      "    length ``2*class_sep`` and assigns an equal number of clusters to each\n",
      "    class. It introduces interdependence between these features and adds\n",
      "    various types of further noise to the data.\n",
      "    \n",
      "    Without shuffling, ``X`` horizontally stacks features in the following\n",
      "    order: the primary ``n_informative`` features, followed by ``n_redundant``\n",
      "    linear combinations of the informative features, followed by ``n_repeated``\n",
      "    duplicates, drawn randomly with replacement from the informative and\n",
      "    redundant features. The remaining features are filled with random noise.\n",
      "    Thus, without shuffling, all useful features are contained in the columns\n",
      "    ``X[:, :n_informative + n_redundant + n_repeated]``.\n",
      "    \n",
      "    Read more in the :ref:`User Guide <sample_generators>`.\n",
      "    \n",
      "    Parameters\n",
      "    ----------\n",
      "    n_samples : int, default=100\n",
      "        The number of samples.\n",
      "    \n",
      "    n_features : int, default=20\n",
      "        The total number of features. These comprise ``n_informative``\n",
      "        informative features, ``n_redundant`` redundant features,\n",
      "        ``n_repeated`` duplicated features and\n",
      "        ``n_features-n_informative-n_redundant-n_repeated`` useless features\n",
      "        drawn at random.\n",
      "    \n",
      "    n_informative : int, default=2\n",
      "        The number of informative features. Each class is composed of a number\n",
      "        of gaussian clusters each located around the vertices of a hypercube\n",
      "        in a subspace of dimension ``n_informative``. For each cluster,\n",
      "        informative features are drawn independently from  N(0, 1) and then\n",
      "        randomly linearly combined within each cluster in order to add\n",
      "        covariance. The clusters are then placed on the vertices of the\n",
      "        hypercube.\n",
      "    \n",
      "    n_redundant : int, default=2\n",
      "        The number of redundant features. These features are generated as\n",
      "        random linear combinations of the informative features.\n",
      "    \n",
      "    n_repeated : int, default=0\n",
      "        The number of duplicated features, drawn randomly from the informative\n",
      "        and the redundant features.\n",
      "    \n",
      "    n_classes : int, default=2\n",
      "        The number of classes (or labels) of the classification problem.\n",
      "    \n",
      "    n_clusters_per_class : int, default=2\n",
      "        The number of clusters per class.\n",
      "    \n",
      "    weights : array-like of shape (n_classes,) or (n_classes - 1,),              default=None\n",
      "        The proportions of samples assigned to each class. If None, then\n",
      "        classes are balanced. Note that if ``len(weights) == n_classes - 1``,\n",
      "        then the last class weight is automatically inferred.\n",
      "        More than ``n_samples`` samples may be returned if the sum of\n",
      "        ``weights`` exceeds 1. Note that the actual class proportions will\n",
      "        not exactly match ``weights`` when ``flip_y`` isn't 0.\n",
      "    \n",
      "    flip_y : float, default=0.01\n",
      "        The fraction of samples whose class is assigned randomly. Larger\n",
      "        values introduce noise in the labels and make the classification\n",
      "        task harder. Note that the default setting flip_y > 0 might lead\n",
      "        to less than ``n_classes`` in y in some cases.\n",
      "    \n",
      "    class_sep : float, default=1.0\n",
      "        The factor multiplying the hypercube size.  Larger values spread\n",
      "        out the clusters/classes and make the classification task easier.\n",
      "    \n",
      "    hypercube : bool, default=True\n",
      "        If True, the clusters are put on the vertices of a hypercube. If\n",
      "        False, the clusters are put on the vertices of a random polytope.\n",
      "    \n",
      "    shift : float, ndarray of shape (n_features,) or None, default=0.0\n",
      "        Shift features by the specified value. If None, then features\n",
      "        are shifted by a random value drawn in [-class_sep, class_sep].\n",
      "    \n",
      "    scale : float, ndarray of shape (n_features,) or None, default=1.0\n",
      "        Multiply features by the specified value. If None, then features\n",
      "        are scaled by a random value drawn in [1, 100]. Note that scaling\n",
      "        happens after shifting.\n",
      "    \n",
      "    shuffle : bool, default=True\n",
      "        Shuffle the samples and the features.\n",
      "    \n",
      "    random_state : int, RandomState instance or None, default=None\n",
      "        Determines random number generation for dataset creation. Pass an int\n",
      "        for reproducible output across multiple function calls.\n",
      "        See :term:`Glossary <random_state>`.\n",
      "    \n",
      "    Returns\n",
      "    -------\n",
      "    X : ndarray of shape (n_samples, n_features)\n",
      "        The generated samples.\n",
      "    \n",
      "    y : ndarray of shape (n_samples,)\n",
      "        The integer labels for class membership of each sample.\n",
      "    \n",
      "    Notes\n",
      "    -----\n",
      "    The algorithm is adapted from Guyon [1] and was designed to generate\n",
      "    the \"Madelon\" dataset.\n",
      "    \n",
      "    References\n",
      "    ----------\n",
      "    .. [1] I. Guyon, \"Design of experiments for the NIPS 2003 variable\n",
      "           selection benchmark\", 2003.\n",
      "    \n",
      "    See Also\n",
      "    --------\n",
      "    make_blobs : Simplified variant.\n",
      "    make_multilabel_classification : Unrelated generator for multilabel tasks.\n",
      "\n"
     ]
    }
   ],
   "source": [
    "help(make_classification)"
   ]
  },
  {
   "cell_type": "markdown",
   "metadata": {},
   "source": [
    "### 2.3加载csv文件"
   ]
  },
  {
   "cell_type": "code",
   "execution_count": 72,
   "metadata": {
    "scrolled": false
   },
   "outputs": [
    {
     "data": {
      "text/html": [
       "<div>\n",
       "<style scoped>\n",
       "    .dataframe tbody tr th:only-of-type {\n",
       "        vertical-align: middle;\n",
       "    }\n",
       "\n",
       "    .dataframe tbody tr th {\n",
       "        vertical-align: top;\n",
       "    }\n",
       "\n",
       "    .dataframe thead th {\n",
       "        text-align: right;\n",
       "    }\n",
       "</style>\n",
       "<table border=\"1\" class=\"dataframe\">\n",
       "  <thead>\n",
       "    <tr style=\"text-align: right;\">\n",
       "      <th></th>\n",
       "      <th>Epitope ID</th>\n",
       "      <th>Description</th>\n",
       "    </tr>\n",
       "  </thead>\n",
       "  <tbody>\n",
       "    <tr>\n",
       "      <th>0</th>\n",
       "      <td>14464</td>\n",
       "      <td>ETLLRAVESYLLAHS</td>\n",
       "    </tr>\n",
       "    <tr>\n",
       "      <th>1</th>\n",
       "      <td>14465</td>\n",
       "      <td>ETLLRAVESYLLAHSD</td>\n",
       "    </tr>\n",
       "    <tr>\n",
       "      <th>2</th>\n",
       "      <td>19447</td>\n",
       "      <td>GETLLRAVESYLLAH</td>\n",
       "    </tr>\n",
       "    <tr>\n",
       "      <th>3</th>\n",
       "      <td>19448</td>\n",
       "      <td>GETLLRAVESYLLAHS</td>\n",
       "    </tr>\n",
       "    <tr>\n",
       "      <th>4</th>\n",
       "      <td>35863</td>\n",
       "      <td>LFKAFILDGDNLFPK</td>\n",
       "    </tr>\n",
       "    <tr>\n",
       "      <th>5</th>\n",
       "      <td>41568</td>\n",
       "      <td>MGETLLRAVESYLLAHSD</td>\n",
       "    </tr>\n",
       "    <tr>\n",
       "      <th>6</th>\n",
       "      <td>64938</td>\n",
       "      <td>TLLRAVESYLLAHSD</td>\n",
       "    </tr>\n",
       "    <tr>\n",
       "      <th>7</th>\n",
       "      <td>130738</td>\n",
       "      <td>ASKEMGETLLRAVESYLLAHSDA</td>\n",
       "    </tr>\n",
       "    <tr>\n",
       "      <th>8</th>\n",
       "      <td>130739</td>\n",
       "      <td>ASKEMGETLLRAVESYLLAHSDAYN</td>\n",
       "    </tr>\n",
       "    <tr>\n",
       "      <th>9</th>\n",
       "      <td>130773</td>\n",
       "      <td>DRVDEVDHTNFKYNYS</td>\n",
       "    </tr>\n",
       "    <tr>\n",
       "      <th>10</th>\n",
       "      <td>130807</td>\n",
       "      <td>EMGETLLRAVESYLLAHSDA</td>\n",
       "    </tr>\n",
       "    <tr>\n",
       "      <th>11</th>\n",
       "      <td>130818</td>\n",
       "      <td>ETLLRAVESYLLAH</td>\n",
       "    </tr>\n",
       "    <tr>\n",
       "      <th>12</th>\n",
       "      <td>130819</td>\n",
       "      <td>ETLLRAVESYLLAHSDA</td>\n",
       "    </tr>\n",
       "    <tr>\n",
       "      <th>13</th>\n",
       "      <td>130828</td>\n",
       "      <td>FKAFILDGDNLFPK</td>\n",
       "    </tr>\n",
       "    <tr>\n",
       "      <th>14</th>\n",
       "      <td>130830</td>\n",
       "      <td>FKYNYSVIEGGPIGDTLE</td>\n",
       "    </tr>\n",
       "    <tr>\n",
       "      <th>15</th>\n",
       "      <td>130846</td>\n",
       "      <td>GETLLRAVESYLLAHSD</td>\n",
       "    </tr>\n",
       "    <tr>\n",
       "      <th>16</th>\n",
       "      <td>130847</td>\n",
       "      <td>GETLLRAVESYLLAHSDA</td>\n",
       "    </tr>\n",
       "    <tr>\n",
       "      <th>17</th>\n",
       "      <td>130848</td>\n",
       "      <td>GETLLRAVESYLLAHSDAYN</td>\n",
       "    </tr>\n",
       "    <tr>\n",
       "      <th>18</th>\n",
       "      <td>130899</td>\n",
       "      <td>IPAARLFKAFILDGDNL</td>\n",
       "    </tr>\n",
       "    <tr>\n",
       "      <th>19</th>\n",
       "      <td>130918</td>\n",
       "      <td>KEMGETLLRAVESYLLAHSDA</td>\n",
       "    </tr>\n",
       "    <tr>\n",
       "      <th>20</th>\n",
       "      <td>130968</td>\n",
       "      <td>MGETLLRAVESYLLAHS</td>\n",
       "    </tr>\n",
       "    <tr>\n",
       "      <th>21</th>\n",
       "      <td>130969</td>\n",
       "      <td>MGETLLRAVESYLLAHSDA</td>\n",
       "    </tr>\n",
       "    <tr>\n",
       "      <th>22</th>\n",
       "      <td>131026</td>\n",
       "      <td>QVKASKEMGETLLRAVESYLLAHSDA</td>\n",
       "    </tr>\n",
       "    <tr>\n",
       "      <th>23</th>\n",
       "      <td>131027</td>\n",
       "      <td>QVKASKEMGETLLRAVESYLLAHSDAYN</td>\n",
       "    </tr>\n",
       "    <tr>\n",
       "      <th>24</th>\n",
       "      <td>131133</td>\n",
       "      <td>VIPAARLFKAFILDGDN</td>\n",
       "    </tr>\n",
       "  </tbody>\n",
       "</table>\n",
       "</div>"
      ],
      "text/plain": [
       "    Epitope ID                   Description\n",
       "0        14464               ETLLRAVESYLLAHS\n",
       "1        14465              ETLLRAVESYLLAHSD\n",
       "2        19447               GETLLRAVESYLLAH\n",
       "3        19448              GETLLRAVESYLLAHS\n",
       "4        35863               LFKAFILDGDNLFPK\n",
       "5        41568            MGETLLRAVESYLLAHSD\n",
       "6        64938               TLLRAVESYLLAHSD\n",
       "7       130738       ASKEMGETLLRAVESYLLAHSDA\n",
       "8       130739     ASKEMGETLLRAVESYLLAHSDAYN\n",
       "9       130773              DRVDEVDHTNFKYNYS\n",
       "10      130807          EMGETLLRAVESYLLAHSDA\n",
       "11      130818                ETLLRAVESYLLAH\n",
       "12      130819             ETLLRAVESYLLAHSDA\n",
       "13      130828                FKAFILDGDNLFPK\n",
       "14      130830            FKYNYSVIEGGPIGDTLE\n",
       "15      130846             GETLLRAVESYLLAHSD\n",
       "16      130847            GETLLRAVESYLLAHSDA\n",
       "17      130848          GETLLRAVESYLLAHSDAYN\n",
       "18      130899             IPAARLFKAFILDGDNL\n",
       "19      130918         KEMGETLLRAVESYLLAHSDA\n",
       "20      130968             MGETLLRAVESYLLAHS\n",
       "21      130969           MGETLLRAVESYLLAHSDA\n",
       "22      131026    QVKASKEMGETLLRAVESYLLAHSDA\n",
       "23      131027  QVKASKEMGETLLRAVESYLLAHSDAYN\n",
       "24      131133             VIPAARLFKAFILDGDN"
      ]
     },
     "execution_count": 72,
     "metadata": {},
     "output_type": "execute_result"
    }
   ],
   "source": [
    "# 加载库\n",
    "import pandas as pd\n",
    "# 创建 URL\n",
    "url = 'text1.csv'\n",
    "# 加载数据集\n",
    "dataframe = pd.read_csv(url)\n",
    "\n",
    "#展示数据\n",
    "dataframe\n",
    "#类型 pandas.core.frame.DataFrame\n",
    "# type(dataframe)\n",
    "# dir(pd.core.frame.DataFrame)\n"
   ]
  },
  {
   "cell_type": "markdown",
   "metadata": {},
   "source": [
    "### 3.2描述数据"
   ]
  },
  {
   "cell_type": "code",
   "execution_count": 71,
   "metadata": {
    "collapsed": true
   },
   "outputs": [
    {
     "name": "stdout",
     "output_type": "stream",
     "text": [
      "   Epitope ID       Description\n",
      "0       14464   ETLLRAVESYLLAHS\n",
      "1       14465  ETLLRAVESYLLAHSD\n",
      "(25, 2)\n"
     ]
    },
    {
     "data": {
      "text/html": [
       "<div>\n",
       "<style scoped>\n",
       "    .dataframe tbody tr th:only-of-type {\n",
       "        vertical-align: middle;\n",
       "    }\n",
       "\n",
       "    .dataframe tbody tr th {\n",
       "        vertical-align: top;\n",
       "    }\n",
       "\n",
       "    .dataframe thead th {\n",
       "        text-align: right;\n",
       "    }\n",
       "</style>\n",
       "<table border=\"1\" class=\"dataframe\">\n",
       "  <thead>\n",
       "    <tr style=\"text-align: right;\">\n",
       "      <th></th>\n",
       "      <th>Epitope ID</th>\n",
       "    </tr>\n",
       "  </thead>\n",
       "  <tbody>\n",
       "    <tr>\n",
       "      <th>count</th>\n",
       "      <td>25.000000</td>\n",
       "    </tr>\n",
       "    <tr>\n",
       "      <th>mean</th>\n",
       "      <td>102641.040000</td>\n",
       "    </tr>\n",
       "    <tr>\n",
       "      <th>std</th>\n",
       "      <td>47150.900534</td>\n",
       "    </tr>\n",
       "    <tr>\n",
       "      <th>min</th>\n",
       "      <td>14464.000000</td>\n",
       "    </tr>\n",
       "    <tr>\n",
       "      <th>25%</th>\n",
       "      <td>64938.000000</td>\n",
       "    </tr>\n",
       "    <tr>\n",
       "      <th>50%</th>\n",
       "      <td>130819.000000</td>\n",
       "    </tr>\n",
       "    <tr>\n",
       "      <th>75%</th>\n",
       "      <td>130899.000000</td>\n",
       "    </tr>\n",
       "    <tr>\n",
       "      <th>max</th>\n",
       "      <td>131133.000000</td>\n",
       "    </tr>\n",
       "  </tbody>\n",
       "</table>\n",
       "</div>"
      ],
      "text/plain": [
       "          Epitope ID\n",
       "count      25.000000\n",
       "mean   102641.040000\n",
       "std     47150.900534\n",
       "min     14464.000000\n",
       "25%     64938.000000\n",
       "50%    130819.000000\n",
       "75%    130899.000000\n",
       "max    131133.000000"
      ]
     },
     "execution_count": 71,
     "metadata": {},
     "output_type": "execute_result"
    }
   ],
   "source": [
    "# 查看前两行数据\n",
    "print(dataframe.head(2))\n",
    "\n",
    "#查看维数\n",
    "print(dataframe.shape)\n",
    "\n",
    "#查看描述性统计量\n",
    "dataframe.describe()"
   ]
  },
  {
   "cell_type": "markdown",
   "metadata": {},
   "source": [
    "### 3.3浏览数据帧\n",
    "方法： iloc[] 和"
   ]
  },
  {
   "cell_type": "code",
   "execution_count": 76,
   "metadata": {},
   "outputs": [
    {
     "name": "stdout",
     "output_type": "stream",
     "text": [
      "Epitope ID               14464\n",
      "Description    ETLLRAVESYLLAHS\n",
      "Name: 0, dtype: object\n",
      "   Epitope ID       Description\n",
      "0       14464   ETLLRAVESYLLAHS\n",
      "1       14465  ETLLRAVESYLLAHSD\n",
      "2       19447   GETLLRAVESYLLAH\n",
      "    Epitope ID                   Description\n",
      "0        14464               ETLLRAVESYLLAHS\n",
      "1        14465              ETLLRAVESYLLAHSD\n",
      "2        19447               GETLLRAVESYLLAH\n",
      "3        19448              GETLLRAVESYLLAHS\n",
      "4        35863               LFKAFILDGDNLFPK\n",
      "5        41568            MGETLLRAVESYLLAHSD\n",
      "6        64938               TLLRAVESYLLAHSD\n",
      "7       130738       ASKEMGETLLRAVESYLLAHSDA\n",
      "8       130739     ASKEMGETLLRAVESYLLAHSDAYN\n",
      "9       130773              DRVDEVDHTNFKYNYS\n",
      "10      130807          EMGETLLRAVESYLLAHSDA\n",
      "11      130818                ETLLRAVESYLLAH\n",
      "12      130819             ETLLRAVESYLLAHSDA\n",
      "13      130828                FKAFILDGDNLFPK\n",
      "14      130830            FKYNYSVIEGGPIGDTLE\n",
      "15      130846             GETLLRAVESYLLAHSD\n",
      "16      130847            GETLLRAVESYLLAHSDA\n",
      "17      130848          GETLLRAVESYLLAHSDAYN\n",
      "18      130899             IPAARLFKAFILDGDNL\n",
      "19      130918         KEMGETLLRAVESYLLAHSDA\n",
      "20      130968             MGETLLRAVESYLLAHS\n",
      "21      130969           MGETLLRAVESYLLAHSDA\n",
      "22      131026    QVKASKEMGETLLRAVESYLLAHSDA\n",
      "23      131027  QVKASKEMGETLLRAVESYLLAHSDAYN\n",
      "24      131133             VIPAARLFKAFILDGDN\n"
     ]
    }
   ],
   "source": [
    "#选择第一行、第二行\n",
    "print(dataframe.iloc[0])\n",
    "\n",
    "#选择第1-3行\n",
    "print(dataframe.iloc[0:3])\n",
    "\n"
   ]
  },
  {
   "cell_type": "code",
   "execution_count": null,
   "metadata": {
    "collapsed": true
   },
   "outputs": [],
   "source": []
  },
  {
   "cell_type": "code",
   "execution_count": null,
   "metadata": {
    "collapsed": true
   },
   "outputs": [],
   "source": []
  },
  {
   "cell_type": "code",
   "execution_count": null,
   "metadata": {
    "collapsed": true
   },
   "outputs": [],
   "source": []
  },
  {
   "cell_type": "code",
   "execution_count": null,
   "metadata": {
    "collapsed": true
   },
   "outputs": [],
   "source": []
  },
  {
   "cell_type": "code",
   "execution_count": null,
   "metadata": {
    "collapsed": true
   },
   "outputs": [],
   "source": []
  },
  {
   "cell_type": "code",
   "execution_count": null,
   "metadata": {
    "collapsed": true
   },
   "outputs": [],
   "source": []
  },
  {
   "cell_type": "code",
   "execution_count": null,
   "metadata": {
    "collapsed": true
   },
   "outputs": [],
   "source": []
  },
  {
   "cell_type": "code",
   "execution_count": null,
   "metadata": {
    "collapsed": true
   },
   "outputs": [],
   "source": []
  },
  {
   "cell_type": "code",
   "execution_count": null,
   "metadata": {
    "collapsed": true
   },
   "outputs": [],
   "source": []
  },
  {
   "cell_type": "code",
   "execution_count": null,
   "metadata": {
    "collapsed": true
   },
   "outputs": [],
   "source": []
  },
  {
   "cell_type": "code",
   "execution_count": null,
   "metadata": {
    "collapsed": true
   },
   "outputs": [],
   "source": []
  },
  {
   "cell_type": "code",
   "execution_count": null,
   "metadata": {
    "collapsed": true
   },
   "outputs": [],
   "source": []
  },
  {
   "cell_type": "code",
   "execution_count": null,
   "metadata": {
    "collapsed": true
   },
   "outputs": [],
   "source": []
  },
  {
   "cell_type": "code",
   "execution_count": null,
   "metadata": {
    "collapsed": true
   },
   "outputs": [],
   "source": []
  },
  {
   "cell_type": "code",
   "execution_count": null,
   "metadata": {
    "collapsed": true
   },
   "outputs": [],
   "source": []
  },
  {
   "cell_type": "code",
   "execution_count": null,
   "metadata": {
    "collapsed": true
   },
   "outputs": [],
   "source": []
  },
  {
   "cell_type": "code",
   "execution_count": null,
   "metadata": {
    "collapsed": true
   },
   "outputs": [],
   "source": []
  },
  {
   "cell_type": "code",
   "execution_count": null,
   "metadata": {
    "collapsed": true
   },
   "outputs": [],
   "source": []
  },
  {
   "cell_type": "code",
   "execution_count": null,
   "metadata": {
    "collapsed": true
   },
   "outputs": [],
   "source": []
  },
  {
   "cell_type": "code",
   "execution_count": null,
   "metadata": {
    "collapsed": true
   },
   "outputs": [],
   "source": []
  },
  {
   "cell_type": "code",
   "execution_count": null,
   "metadata": {
    "collapsed": true
   },
   "outputs": [],
   "source": []
  },
  {
   "cell_type": "code",
   "execution_count": null,
   "metadata": {
    "collapsed": true
   },
   "outputs": [],
   "source": []
  },
  {
   "cell_type": "code",
   "execution_count": null,
   "metadata": {
    "collapsed": true
   },
   "outputs": [],
   "source": []
  },
  {
   "cell_type": "code",
   "execution_count": null,
   "metadata": {
    "collapsed": true
   },
   "outputs": [],
   "source": []
  },
  {
   "cell_type": "code",
   "execution_count": null,
   "metadata": {
    "collapsed": true
   },
   "outputs": [],
   "source": []
  },
  {
   "cell_type": "code",
   "execution_count": null,
   "metadata": {
    "collapsed": true
   },
   "outputs": [],
   "source": []
  },
  {
   "cell_type": "code",
   "execution_count": null,
   "metadata": {
    "collapsed": true
   },
   "outputs": [],
   "source": []
  },
  {
   "cell_type": "code",
   "execution_count": null,
   "metadata": {
    "collapsed": true
   },
   "outputs": [],
   "source": []
  },
  {
   "cell_type": "code",
   "execution_count": null,
   "metadata": {
    "collapsed": true
   },
   "outputs": [],
   "source": []
  },
  {
   "cell_type": "code",
   "execution_count": null,
   "metadata": {
    "collapsed": true
   },
   "outputs": [],
   "source": []
  },
  {
   "cell_type": "code",
   "execution_count": null,
   "metadata": {
    "collapsed": true
   },
   "outputs": [],
   "source": []
  },
  {
   "cell_type": "code",
   "execution_count": null,
   "metadata": {
    "collapsed": true
   },
   "outputs": [],
   "source": []
  },
  {
   "cell_type": "code",
   "execution_count": null,
   "metadata": {
    "collapsed": true
   },
   "outputs": [],
   "source": []
  },
  {
   "cell_type": "code",
   "execution_count": null,
   "metadata": {
    "collapsed": true
   },
   "outputs": [],
   "source": []
  }
 ],
 "metadata": {
  "kernelspec": {
   "display_name": "Python 3",
   "language": "python",
   "name": "python3"
  },
  "language_info": {
   "codemirror_mode": {
    "name": "ipython",
    "version": 3
   },
   "file_extension": ".py",
   "mimetype": "text/x-python",
   "name": "python",
   "nbconvert_exporter": "python",
   "pygments_lexer": "ipython3",
   "version": "3.8.5"
  }
 },
 "nbformat": 4,
 "nbformat_minor": 4
}
