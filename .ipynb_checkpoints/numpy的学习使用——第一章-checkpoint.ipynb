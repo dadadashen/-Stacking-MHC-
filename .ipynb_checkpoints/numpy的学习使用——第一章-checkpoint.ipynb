{
 "cells": [
  {
   "cell_type": "code",
   "execution_count": 80,
   "metadata": {},
   "outputs": [
    {
     "name": "stdout",
     "output_type": "stream",
     "text": [
      "[[1 2 3]]\n",
      "2\n",
      "\n",
      "\n",
      "[[1]\n",
      " [2]\n",
      " [3]]\n",
      "[[1 2 3]]\n",
      "2\n"
     ]
    }
   ],
   "source": [
    "import numpy as np\n",
    "\n",
    "vector_raw=np.array([[1,2,3]])\n",
    "print(vector_raw)\n",
    "print(vector_raw[0,1])\n",
    "print(\"\\n\")\n",
    "\n",
    "vector_raw=np.array([[1],\n",
    "                     [2],\n",
    "                     [3]])\n",
    "print(vector_raw)\n",
    "print(vector_raw.T)\n",
    "print(vector_raw[1,0])\n",
    "\n"
   ]
  },
  {
   "cell_type": "code",
   "execution_count": 81,
   "metadata": {
    "scrolled": true
   },
   "outputs": [
    {
     "name": "stdout",
     "output_type": "stream",
     "text": [
      "[[1 2]\n",
      " [2 3]\n",
      " [3 4]]\n"
     ]
    }
   ],
   "source": [
    "#矩阵\n",
    "matrix1=np.mat([[1,2],\n",
    "               [2,3],\n",
    "               [3,4]])\n",
    "print(matrix1)\n",
    "\n",
    "# matrix2=matrix([[1,2],\n",
    "#                [2,3],\n",
    "#                [3,4]])\n",
    "# print(matrix2)"
   ]
  },
  {
   "cell_type": "markdown",
   "metadata": {},
   "source": [
    "### 稀疏矩阵"
   ]
  },
  {
   "cell_type": "code",
   "execution_count": 82,
   "metadata": {
    "scrolled": true
   },
   "outputs": [
    {
     "name": "stdout",
     "output_type": "stream",
     "text": [
      "  (1, 1)\t1\n",
      "  (2, 0)\t3\n"
     ]
    },
    {
     "data": {
      "text/plain": [
       "'\\n输出结果：\\n(1, 1)\\t1          1行1列的元素为1\\n(2, 0)\\t3      2行0列的元素为3\\n  \\n'"
      ]
     },
     "execution_count": 82,
     "metadata": {},
     "output_type": "execute_result"
    }
   ],
   "source": [
    "import numpy as np\n",
    "from scipy import sparse\n",
    "\n",
    "matrix=np.array([[0,0],\n",
    "               [0,1],\n",
    "               [3,0]])\n",
    "\n",
    "#创建一个 压缩的稀疏行矩阵（CSR）\n",
    "matrix_sparse=sparse.csr_matrix(matrix)\n",
    "print(matrix_sparse)\n",
    "'''\n",
    "输出结果：\n",
    "(1, 1)\t1          1行1列的元素为1\n",
    "(2, 0)\t3      2行0列的元素为3\n",
    "  \n",
    "'''"
   ]
  },
  {
   "cell_type": "markdown",
   "metadata": {},
   "source": [
    "### 查看一个矩阵的属性（如性状、大小和维数）"
   ]
  },
  {
   "cell_type": "code",
   "execution_count": 83,
   "metadata": {},
   "outputs": [
    {
     "name": "stdout",
     "output_type": "stream",
     "text": [
      "(3, 3)\n",
      "9\n",
      "2\n"
     ]
    }
   ],
   "source": [
    "matrix1=np.mat([[1,2,3],\n",
    "               [2,3,4],\n",
    "               [3,4,5]])\n",
    "\n",
    "print(matrix1.shape) #查看行数和列数\n",
    "\n",
    "print(matrix1.size)#查看元素的数量\n",
    "\n",
    "print(matrix1.ndim)#查看维数\n"
   ]
  },
  {
   "cell_type": "code",
   "execution_count": 84,
   "metadata": {
    "scrolled": true
   },
   "outputs": [
    {
     "name": "stdout",
     "output_type": "stream",
     "text": [
      "[[101 102 103]\n",
      " [102 103 104]\n",
      " [103 104 105]]\n"
     ]
    },
    {
     "data": {
      "text/plain": [
       "array([[101, 102, 103],\n",
       "       [102, 103, 104],\n",
       "       [103, 104, 105]])"
      ]
     },
     "execution_count": 84,
     "metadata": {},
     "output_type": "execute_result"
    }
   ],
   "source": [
    "matrix1=np.array([[1,2,3],\n",
    "               [2,3,4],\n",
    "               [3,4,5]])\n",
    "\n",
    "add_100=lambda i :i+100 #lambda函数也叫匿名函数\n",
    "\n",
    "vector_add_100=np.vectorize(add_100)#add_100是个函数，vector_add_100也是一个函数，但是是个“向量化函数”\n",
    "\n",
    "print(vector_add_100(matrix1))#向量化函数的参数可以是个矩阵\n",
    "\n",
    "matrix1+100#想过跟上面是一样的，此方法叫做“广播”\n"
   ]
  },
  {
   "cell_type": "markdown",
   "metadata": {},
   "source": [
    "### 1.7找到最大值和最小值 \n",
    "方法max()和min() </br> 使用axis参数可以指定某一坐标轴\n"
   ]
  },
  {
   "cell_type": "code",
   "execution_count": 85,
   "metadata": {},
   "outputs": [
    {
     "name": "stdout",
     "output_type": "stream",
     "text": [
      "5\n"
     ]
    },
    {
     "data": {
      "text/plain": [
       "1"
      ]
     },
     "execution_count": 85,
     "metadata": {},
     "output_type": "execute_result"
    }
   ],
   "source": [
    "matrix1=np.array([[1,2,3],\n",
    "               [2,3,4],\n",
    "               [3,4,5]])\n",
    "print(np.max(matrix1))\n",
    "np.min(matrix1)"
   ]
  },
  {
   "cell_type": "markdown",
   "metadata": {},
   "source": [
    "### 1.8计算平均值、方差和标准差\n",
    "方法mean()、var()和std()\n",
    "         使用axis参数可以指定某一坐标轴"
   ]
  },
  {
   "cell_type": "code",
   "execution_count": 86,
   "metadata": {},
   "outputs": [
    {
     "data": {
      "text/plain": [
       "1.1547005383792515"
      ]
     },
     "execution_count": 86,
     "metadata": {},
     "output_type": "execute_result"
    }
   ],
   "source": [
    "matrix1=np.array([[1,2,3],\n",
    "               [2,3,4],\n",
    "               [3,4,5]])\n",
    "np.mean(matrix1)\n",
    "np.var(matrix1)\n",
    "np.std(matrix1)"
   ]
  },
  {
   "cell_type": "markdown",
   "metadata": {},
   "source": [
    "### 1.9矩阵变形\n",
    "方法reshape（）"
   ]
  },
  {
   "cell_type": "code",
   "execution_count": 87,
   "metadata": {},
   "outputs": [
    {
     "name": "stdout",
     "output_type": "stream",
     "text": [
      "[[1 2 3 4 2 3]\n",
      " [4 5 3 4 5 6]]\n",
      "[[1 2 3 4 2 3 4 5 3 4 5 6]]\n",
      "[[1]\n",
      " [2]\n",
      " [3]\n",
      " [4]\n",
      " [2]\n",
      " [3]\n",
      " [4]\n",
      " [5]\n",
      " [3]\n",
      " [4]\n",
      " [5]\n",
      " [6]]\n"
     ]
    }
   ],
   "source": [
    "#这是一个 3*4 矩阵\n",
    "matrix1=np.array([[1,2,3,4],\n",
    "               [2,3,4,5],\n",
    "               [3,4,5,6]])\n",
    "\n",
    "#变形为 2*6 矩阵\n",
    "print(matrix1.reshape(2,6))\n",
    "\n",
    "print(matrix1.reshape(1,-1))#只有一行\n",
    "print(matrix1.reshape(-1,1))#只有一列"
   ]
  },
  {
   "cell_type": "markdown",
   "metadata": {},
   "source": [
    "### 1.10转置向量或矩阵\n",
    "方法 T"
   ]
  },
  {
   "cell_type": "code",
   "execution_count": 88,
   "metadata": {},
   "outputs": [
    {
     "data": {
      "text/plain": [
       "array([[1, 2, 3],\n",
       "       [2, 3, 4],\n",
       "       [3, 4, 5],\n",
       "       [4, 5, 6]])"
      ]
     },
     "execution_count": 88,
     "metadata": {},
     "output_type": "execute_result"
    }
   ],
   "source": [
    "matrix1=np.array([[1,2,3,4],\n",
    "               [2,3,4,5],\n",
    "               [3,4,5,6]])\n",
    "\n",
    "matrix1.T"
   ]
  },
  {
   "cell_type": "markdown",
   "metadata": {},
   "source": [
    "### 1.11 展开一个矩阵，展开成一个一维数组\n",
    "方法 flatten()"
   ]
  },
  {
   "cell_type": "code",
   "execution_count": 89,
   "metadata": {},
   "outputs": [
    {
     "data": {
      "text/plain": [
       "array([1, 2, 3, 4, 2, 3, 4, 5, 3, 4, 5, 6])"
      ]
     },
     "execution_count": 89,
     "metadata": {},
     "output_type": "execute_result"
    }
   ],
   "source": [
    "matrix1=np.array([[1,2,3,4],\n",
    "               [2,3,4,5],\n",
    "               [3,4,5,6]])\n",
    "\n",
    "matrix1.flatten()\n",
    "#print(matrix1.reshape(1,-1)) 也可以"
   ]
  },
  {
   "cell_type": "markdown",
   "metadata": {},
   "source": [
    "### 1.12计算矩阵的秩\n",
    "方法 np.linalg.matrix_rank()\n",
    "##### numpy.linalg模块包含线性代数的函数。使用这个模块，可以计算逆矩阵、求特征值、解线性方程组以及求解行列式等。"
   ]
  },
  {
   "cell_type": "code",
   "execution_count": 90,
   "metadata": {
    "scrolled": true
   },
   "outputs": [
    {
     "data": {
      "text/plain": [
       "2"
      ]
     },
     "execution_count": 90,
     "metadata": {},
     "output_type": "execute_result"
    }
   ],
   "source": [
    "matrix1=np.array([[1,2,3,4],\n",
    "               [2,3,4,5],\n",
    "               [3,4,5,6]])\n",
    "\n",
    "np.linalg.matrix_rank(matrix1)"
   ]
  },
  {
   "cell_type": "markdown",
   "metadata": {},
   "source": [
    "### 1.13计算行列式，只有方阵才有行列式\n",
    "方法 np.linalg.det()"
   ]
  },
  {
   "cell_type": "code",
   "execution_count": 91,
   "metadata": {},
   "outputs": [
    {
     "data": {
      "text/plain": [
       "-7.401486830834414e-17"
      ]
     },
     "execution_count": 91,
     "metadata": {},
     "output_type": "execute_result"
    }
   ],
   "source": [
    "matrix1=np.array([[1,2,3],\n",
    "               [2,3,4],\n",
    "               [3,4,5]])\n",
    "\n",
    "np.linalg.det(matrix1)"
   ]
  },
  {
   "cell_type": "markdown",
   "metadata": {},
   "source": [
    "### 1.14获取矩阵的对角线元素，以及获取上下偏移对角线的元素 \n",
    "方法 diagonal(offset) ，参数offset为偏移量\n"
   ]
  },
  {
   "cell_type": "code",
   "execution_count": 92,
   "metadata": {},
   "outputs": [
    {
     "data": {
      "text/plain": [
       "array([2, 4])"
      ]
     },
     "execution_count": 92,
     "metadata": {},
     "output_type": "execute_result"
    }
   ],
   "source": [
    "matrix1=np.array([[1,2,3],\n",
    "               [2,3,4],\n",
    "               [3,4,5]])\n",
    "matrix1.diagonal(offset=0)#offset=0 可不写\n",
    "\n",
    "matrix1.diagonal(offset=1)\n",
    "matrix1.diagonal(offset=-1)"
   ]
  },
  {
   "cell_type": "markdown",
   "metadata": {},
   "source": [
    "### 计算矩阵的迹，矩阵的迹就是主对角线元素之和\n",
    "方法 trace()"
   ]
  },
  {
   "cell_type": "code",
   "execution_count": 93,
   "metadata": {},
   "outputs": [
    {
     "data": {
      "text/plain": [
       "9"
      ]
     },
     "execution_count": 93,
     "metadata": {},
     "output_type": "execute_result"
    }
   ],
   "source": [
    "matrix1=np.array([[1,2,3],\n",
    "               [2,3,4],\n",
    "               [3,4,5]])\n",
    "\n",
    "matrix1.trace()\n",
    "#sum(matrix1.diagonal(offset=0) 同样效果"
   ]
  },
  {
   "cell_type": "markdown",
   "metadata": {},
   "source": [
    "### 计算特征值和特征向量\n"
   ]
  },
  {
   "cell_type": "code",
   "execution_count": 94,
   "metadata": {
    "scrolled": true
   },
   "outputs": [
    {
     "name": "stdout",
     "output_type": "stream",
     "text": [
      "[ 9.62347538e+00 -6.23475383e-01  9.06797114e-17]\n",
      "[[-0.38508979 -0.82767094  0.40824829]\n",
      " [-0.55951021 -0.14241368 -0.81649658]\n",
      " [-0.73393063  0.54284358  0.40824829]]\n"
     ]
    }
   ],
   "source": [
    "matrix1=np.array([[1,2,3],\n",
    "               [2,3,4],\n",
    "               [3,4,5]])\n",
    "\n",
    "eigenvalues,eigenvectors=np.linalg.eig(matrix1)\n",
    "\n",
    "#特征值\n",
    "print(eigenvalues)\n",
    "\n",
    "#特征向量\n",
    "print(eigenvectors)"
   ]
  },
  {
   "cell_type": "markdown",
   "metadata": {},
   "source": [
    "### 1.17计算点积\n",
    "方法 np.dot(v1,v2) 。v1,v2 为向量"
   ]
  },
  {
   "cell_type": "code",
   "execution_count": 95,
   "metadata": {},
   "outputs": [
    {
     "data": {
      "text/plain": [
       "32"
      ]
     },
     "execution_count": 95,
     "metadata": {},
     "output_type": "execute_result"
    }
   ],
   "source": [
    "v1=np.array([1,2,3])\n",
    "v2=np.array([4,5,6])\n",
    "\n",
    "np.dot(v1,v2)"
   ]
  },
  {
   "cell_type": "markdown",
   "metadata": {},
   "source": [
    "### 1.18矩阵的相加或相减\n",
    "简单的直接相加减 或者 使用 np.add(m1,m2) 和 np.subtract(m1,m2)"
   ]
  },
  {
   "cell_type": "code",
   "execution_count": 96,
   "metadata": {},
   "outputs": [
    {
     "data": {
      "text/plain": [
       "array([[-1, -1, -1],\n",
       "       [-1, -1, -1],\n",
       "       [-1, -1, -1]])"
      ]
     },
     "execution_count": 96,
     "metadata": {},
     "output_type": "execute_result"
    }
   ],
   "source": [
    "m1=np.array([[1,2,3],\n",
    "               [2,3,4],\n",
    "               [3,4,5]])\n",
    "m2=m1+1\n",
    "# m1-m2\n",
    "\n",
    "np.add(m1,m2)\n",
    "\n",
    "np.subtract(m1,m2)"
   ]
  },
  {
   "cell_type": "markdown",
   "metadata": {},
   "source": [
    "### 1.19矩阵乘法\n",
    "方法跟点积一样，都是 np.dot(m1,m2)。只不过参数不一样罢了"
   ]
  },
  {
   "cell_type": "code",
   "execution_count": 97,
   "metadata": {},
   "outputs": [
    {
     "data": {
      "text/plain": [
       "array([[20, 26, 32],\n",
       "       [29, 38, 47],\n",
       "       [38, 50, 62]])"
      ]
     },
     "execution_count": 97,
     "metadata": {},
     "output_type": "execute_result"
    }
   ],
   "source": [
    "m1=np.array([[1,2,3],\n",
    "               [2,3,4],\n",
    "               [3,4,5]])\n",
    "m2=m1+1\n",
    "\n",
    "np.dot(m1,m2)"
   ]
  },
  {
   "cell_type": "markdown",
   "metadata": {},
   "source": [
    "### 1.20计算矩阵的逆\n",
    "方法 np.linalg.inv(m)"
   ]
  },
  {
   "cell_type": "code",
   "execution_count": 98,
   "metadata": {},
   "outputs": [
    {
     "data": {
      "text/plain": [
       "array([[ 1.35107989e+16, -2.70215978e+16,  1.35107989e+16],\n",
       "       [-2.70215978e+16,  5.40431955e+16, -2.70215978e+16],\n",
       "       [ 1.35107989e+16, -2.70215978e+16,  1.35107989e+16]])"
      ]
     },
     "execution_count": 98,
     "metadata": {},
     "output_type": "execute_result"
    }
   ],
   "source": [
    "m1=np.array([[1,2,3],\n",
    "               [2,3,4],\n",
    "               [3,4,5]])\n",
    "\n",
    "np.linalg.inv(m1)"
   ]
  },
  {
   "cell_type": "markdown",
   "metadata": {},
   "source": [
    "### 1.21生成随机数\n",
    "模块 random"
   ]
  },
  {
   "cell_type": "code",
   "execution_count": 104,
   "metadata": {},
   "outputs": [
    {
     "data": {
      "text/plain": [
       "array([0.5488135 , 0.71518937, 0.60276338])"
      ]
     },
     "execution_count": 104,
     "metadata": {},
     "output_type": "execute_result"
    }
   ],
   "source": [
    "import numpy as np\n",
    "\n",
    "#设置随机数种子\n",
    "np.random.seed(0)\n",
    "\n",
    "#生成3个0.0到1.0之间的随机浮点数\n",
    "np.random.random(3)"
   ]
  },
  {
   "cell_type": "code",
   "execution_count": null,
   "metadata": {},
   "outputs": [],
   "source": []
  },
  {
   "cell_type": "code",
   "execution_count": null,
   "metadata": {},
   "outputs": [],
   "source": []
  },
  {
   "cell_type": "code",
   "execution_count": null,
   "metadata": {},
   "outputs": [],
   "source": []
  },
  {
   "cell_type": "code",
   "execution_count": null,
   "metadata": {},
   "outputs": [],
   "source": []
  },
  {
   "cell_type": "code",
   "execution_count": null,
   "metadata": {},
   "outputs": [],
   "source": []
  },
  {
   "cell_type": "code",
   "execution_count": null,
   "metadata": {},
   "outputs": [],
   "source": []
  },
  {
   "cell_type": "code",
   "execution_count": null,
   "metadata": {},
   "outputs": [],
   "source": []
  },
  {
   "cell_type": "code",
   "execution_count": null,
   "metadata": {},
   "outputs": [],
   "source": []
  },
  {
   "cell_type": "code",
   "execution_count": null,
   "metadata": {},
   "outputs": [],
   "source": []
  },
  {
   "cell_type": "code",
   "execution_count": null,
   "metadata": {},
   "outputs": [],
   "source": []
  },
  {
   "cell_type": "code",
   "execution_count": null,
   "metadata": {},
   "outputs": [],
   "source": []
  },
  {
   "cell_type": "code",
   "execution_count": null,
   "metadata": {},
   "outputs": [],
   "source": []
  },
  {
   "cell_type": "code",
   "execution_count": null,
   "metadata": {},
   "outputs": [],
   "source": []
  },
  {
   "cell_type": "code",
   "execution_count": null,
   "metadata": {},
   "outputs": [],
   "source": []
  },
  {
   "cell_type": "code",
   "execution_count": null,
   "metadata": {},
   "outputs": [],
   "source": []
  },
  {
   "cell_type": "code",
   "execution_count": null,
   "metadata": {},
   "outputs": [],
   "source": []
  },
  {
   "cell_type": "code",
   "execution_count": null,
   "metadata": {},
   "outputs": [],
   "source": []
  },
  {
   "cell_type": "code",
   "execution_count": null,
   "metadata": {},
   "outputs": [],
   "source": []
  }
 ],
 "metadata": {
  "kernelspec": {
   "display_name": "Python 3",
   "language": "python",
   "name": "python3"
  },
  "language_info": {
   "codemirror_mode": {
    "name": "ipython",
    "version": 3
   },
   "file_extension": ".py",
   "mimetype": "text/x-python",
   "name": "python",
   "nbconvert_exporter": "python",
   "pygments_lexer": "ipython3",
   "version": "3.8.5"
  }
 },
 "nbformat": 4,
 "nbformat_minor": 4
}
